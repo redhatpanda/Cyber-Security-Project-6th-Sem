{
  "cells": [
    {
      "cell_type": "markdown",
      "metadata": {
        "id": "tGLYJuXmFBZI"
      },
      "source": [
        "# Web attack detection using CICIDS2017 dataset"
      ]
    },
    {
      "cell_type": "markdown",
      "metadata": {
        "id": "SCEkDfpOFPQX"
      },
      "source": [
        "## Data preprocessing\n",
        "\n",
        "Source: https://github.com/bozbil/Anomaly-Detection-in-Networks-Using-Machine-Learning/blob/master/01_preprocessing.ipynb [Kostas2018]."
      ]
    },
    {
      "cell_type": "code",
      "execution_count": 1,
      "metadata": {
        "id": "hJVAToeYFV2Q"
      },
      "outputs": [],
      "source": [
        "import pandas as pd\n",
        "import numpy as np\n",
        "from sklearn import preprocessing\n",
        "import matplotlib.pyplot as plt\n",
        "%matplotlib inline"
      ]
    },
    {
      "cell_type": "markdown",
      "metadata": {
        "id": "o01NSeErDUv0"
      },
      "source": [
        "Download the dataset from Github to Google Colab and unzip it."
      ]
    },
    {
      "cell_type": "code",
      "execution_count": 2,
      "metadata": {
        "id": "DQuByEvODUv0",
        "outputId": "bdb5cf5c-42c0-4833-9b3b-c91c3c76da58",
        "colab": {
          "base_uri": "https://localhost:8080/"
        }
      },
      "outputs": [
        {
          "output_type": "stream",
          "name": "stdout",
          "text": [
            "--2022-06-11 04:47:05--  https://github.com/fisher85/ml-cybersecurity/blob/master/python-web-attack-detection/datasets/Thursday-WorkingHours-Morning-WebAttacks.pcap_ISCX.csv.zip?raw=true\n",
            "Resolving github.com (github.com)... 140.82.121.4\n",
            "Connecting to github.com (github.com)|140.82.121.4|:443... connected.\n",
            "HTTP request sent, awaiting response... 302 Found\n",
            "Location: https://github.com/fisher85/ml-cybersecurity/raw/master/python-web-attack-detection/datasets/Thursday-WorkingHours-Morning-WebAttacks.pcap_ISCX.csv.zip [following]\n",
            "--2022-06-11 04:47:05--  https://github.com/fisher85/ml-cybersecurity/raw/master/python-web-attack-detection/datasets/Thursday-WorkingHours-Morning-WebAttacks.pcap_ISCX.csv.zip\n",
            "Reusing existing connection to github.com:443.\n",
            "HTTP request sent, awaiting response... 302 Found\n",
            "Location: https://raw.githubusercontent.com/fisher85/ml-cybersecurity/master/python-web-attack-detection/datasets/Thursday-WorkingHours-Morning-WebAttacks.pcap_ISCX.csv.zip [following]\n",
            "--2022-06-11 04:47:05--  https://raw.githubusercontent.com/fisher85/ml-cybersecurity/master/python-web-attack-detection/datasets/Thursday-WorkingHours-Morning-WebAttacks.pcap_ISCX.csv.zip\n",
            "Resolving raw.githubusercontent.com (raw.githubusercontent.com)... 185.199.108.133, 185.199.109.133, 185.199.110.133, ...\n",
            "Connecting to raw.githubusercontent.com (raw.githubusercontent.com)|185.199.108.133|:443... connected.\n",
            "HTTP request sent, awaiting response... 200 OK\n",
            "Length: 15395091 (15M) [application/zip]\n",
            "Saving to: ‘dataset.zip’\n",
            "\n",
            "dataset.zip         100%[===================>]  14.68M  --.-KB/s    in 0.06s   \n",
            "\n",
            "2022-06-11 04:47:06 (262 MB/s) - ‘dataset.zip’ saved [15395091/15395091]\n",
            "\n",
            "Archive:  dataset.zip\n",
            "  inflating: Thursday-WorkingHours-Morning-WebAttacks.pcap_ISCX.csv  \n"
          ]
        }
      ],
      "source": [
        "!wget https://github.com/fisher85/ml-cybersecurity/blob/master/python-web-attack-detection/datasets/Thursday-WorkingHours-Morning-WebAttacks.pcap_ISCX.csv.zip?raw=true -O dataset.zip\n",
        "!unzip -u dataset.zip"
      ]
    },
    {
      "cell_type": "markdown",
      "metadata": {
        "id": "i4vnx_OaGAl0"
      },
      "source": [
        "We use \"engine=python\" to avoid the \"UnicodeDecodeError: 'utf-8' codec can't decode byte 0x96 in position 11: invalid start byte\" encoding error."
      ]
    },
    {
      "cell_type": "code",
      "execution_count": 3,
      "metadata": {
        "id": "yIqeKHKYGCoz"
      },
      "outputs": [],
      "source": [
        "df = pd.read_csv('Thursday-WorkingHours-Morning-WebAttacks.pcap_ISCX.csv', engine='python', encoding='cp1252')"
      ]
    },
    {
      "cell_type": "markdown",
      "metadata": {
        "id": "3U-gQIAmhamL"
      },
      "source": [
        "Thursday-WorkingHours-Morning-WebAttacks.pcap_ISCX.csv file contains 458968 records, 85 columns."
      ]
    },
    {
      "cell_type": "code",
      "execution_count": 4,
      "metadata": {
        "colab": {
          "base_uri": "https://localhost:8080/"
        },
        "id": "QMkibc_W4hpQ",
        "outputId": "10993a83-404f-4e00-cd54-232ddc9b297f"
      },
      "outputs": [
        {
          "output_type": "execute_result",
          "data": {
            "text/plain": [
              "(458968, 85)"
            ]
          },
          "metadata": {},
          "execution_count": 4
        }
      ],
      "source": [
        "df.shape"
      ]
    },
    {
      "cell_type": "markdown",
      "metadata": {
        "id": "E5kIR-daheeV"
      },
      "source": [
        "The columns \"Fwd Header Length\" and \"Fwd Header Length.1\" are identical, the second one is removed, 84 columns remain."
      ]
    },
    {
      "cell_type": "code",
      "execution_count": 5,
      "metadata": {
        "colab": {
          "base_uri": "https://localhost:8080/"
        },
        "id": "83UFLCVlhjKF",
        "outputId": "b62c0c89-59b8-4bea-8e64-f86d8cb9cba4"
      },
      "outputs": [
        {
          "output_type": "execute_result",
          "data": {
            "text/plain": [
              "(458968, 84)"
            ]
          },
          "metadata": {},
          "execution_count": 5
        }
      ],
      "source": [
        "df.columns = df.columns.str.strip()\n",
        "df = df.drop(columns=['Fwd Header Length.1'])\n",
        "df.shape"
      ]
    },
    {
      "cell_type": "markdown",
      "metadata": {
        "id": "BIQQvtxZhiTZ"
      },
      "source": [
        "When assessing the distribution of labels, it turns out that out of 458968 records there are many blank records (\"BENIGN\" - benign background traffic)."
      ]
    },
    {
      "cell_type": "code",
      "execution_count": 6,
      "metadata": {
        "colab": {
          "base_uri": "https://localhost:8080/"
        },
        "id": "HrGLjk5nhrGE",
        "outputId": "3f519742-8823-42f7-bba1-170fa032ae4b"
      },
      "outputs": [
        {
          "output_type": "execute_result",
          "data": {
            "text/plain": [
              "array(['BENIGN', 'Web Attack – Brute Force', 'Web Attack – XSS',\n",
              "       'Web Attack – Sql Injection', nan], dtype=object)"
            ]
          },
          "metadata": {},
          "execution_count": 6
        }
      ],
      "source": [
        "df['Label'].unique()"
      ]
    },
    {
      "cell_type": "code",
      "execution_count": 7,
      "metadata": {
        "colab": {
          "base_uri": "https://localhost:8080/"
        },
        "id": "HnpQqQ8fhxwN",
        "outputId": "353d9a10-c20a-4416-c03d-2839c7ac9769"
      },
      "outputs": [
        {
          "output_type": "execute_result",
          "data": {
            "text/plain": [
              "BENIGN                        168186\n",
              "Web Attack – Brute Force        1507\n",
              "Web Attack – XSS                 652\n",
              "Web Attack – Sql Injection        21\n",
              "Name: Label, dtype: int64"
            ]
          },
          "metadata": {},
          "execution_count": 7
        }
      ],
      "source": [
        "df['Label'].value_counts()"
      ]
    },
    {
      "cell_type": "markdown",
      "metadata": {
        "id": "l7lpytF7h6D4"
      },
      "source": [
        "Delete blank records."
      ]
    },
    {
      "cell_type": "code",
      "execution_count": 8,
      "metadata": {
        "colab": {
          "base_uri": "https://localhost:8080/"
        },
        "id": "7ltfHW8dh7Tw",
        "outputId": "cfe7710d-7747-4156-d740-974fe2643e58"
      },
      "outputs": [
        {
          "output_type": "execute_result",
          "data": {
            "text/plain": [
              "(170366, 84)"
            ]
          },
          "metadata": {},
          "execution_count": 8
        }
      ],
      "source": [
        "df = df.drop(df[pd.isnull(df['Flow ID'])].index)\n",
        "df.shape"
      ]
    },
    {
      "cell_type": "markdown",
      "metadata": {
        "id": "ZN6DKttXiH7J"
      },
      "source": [
        "The \"Flow Bytes/s\" and \"Flow Packets/s\" columns have non-numerical values, replace them."
      ]
    },
    {
      "cell_type": "code",
      "execution_count": 9,
      "metadata": {
        "id": "mZ2ffToLi02x"
      },
      "outputs": [],
      "source": [
        "df.replace('Infinity', -1, inplace=True)\n",
        "df[[\"Flow Bytes/s\", \"Flow Packets/s\"]] = df[[\"Flow Bytes/s\", \"Flow Packets/s\"]].apply(pd.to_numeric)"
      ]
    },
    {
      "cell_type": "markdown",
      "metadata": {
        "id": "e4-dL0G4DUv4"
      },
      "source": [
        "Replace the NaN values and infinity values with -1."
      ]
    },
    {
      "cell_type": "code",
      "execution_count": 10,
      "metadata": {
        "id": "rgrxQu_KDUv4"
      },
      "outputs": [],
      "source": [
        "df.replace([np.inf, -np.inf, np.nan], -1, inplace=True)"
      ]
    },
    {
      "cell_type": "markdown",
      "metadata": {
        "id": "2JMv7gKfi4nI"
      },
      "source": [
        "Convert string characters to numbers, use LabelEncoder, not OneHotEncoder."
      ]
    },
    {
      "cell_type": "code",
      "execution_count": 11,
      "metadata": {
        "colab": {
          "base_uri": "https://localhost:8080/"
        },
        "id": "XmYOMG0Ti8Wh",
        "outputId": "69897e4e-e793-47c4-ebde-0c68efd3f01c"
      },
      "outputs": [
        {
          "output_type": "execute_result",
          "data": {
            "text/plain": [
              "['Flow ID', 'Source IP', 'Destination IP', 'Timestamp']"
            ]
          },
          "metadata": {},
          "execution_count": 11
        }
      ],
      "source": [
        "string_features = list(df.select_dtypes(include=['object']).columns)\n",
        "string_features.remove('Label')\n",
        "string_features"
      ]
    },
    {
      "cell_type": "code",
      "execution_count": 12,
      "metadata": {
        "id": "ySZ2eW_2jCfQ"
      },
      "outputs": [],
      "source": [
        "le = preprocessing.LabelEncoder()\n",
        "df[string_features] = df[string_features].apply(lambda col: le.fit_transform(col))"
      ]
    },
    {
      "cell_type": "markdown",
      "metadata": {
        "id": "K94al8HAjJEN"
      },
      "source": [
        "### Undersampling against unbalance\n",
        "\n",
        "Dataset is unbalanced: total records = 170366, \"BENIGN\" records = 168186, records with attacks much less: 1507 + 652 + 21 = 2180."
      ]
    },
    {
      "cell_type": "code",
      "execution_count": 13,
      "metadata": {
        "colab": {
          "base_uri": "https://localhost:8080/"
        },
        "id": "7K7iWbNMjWrZ",
        "outputId": "9c0be588-b336-44ce-88cf-24868ba19821"
      },
      "outputs": [
        {
          "output_type": "execute_result",
          "data": {
            "text/plain": [
              "168186"
            ]
          },
          "metadata": {},
          "execution_count": 13
        }
      ],
      "source": [
        "benign_total = len(df[df['Label'] == \"BENIGN\"])\n",
        "benign_total"
      ]
    },
    {
      "cell_type": "code",
      "execution_count": 14,
      "metadata": {
        "colab": {
          "base_uri": "https://localhost:8080/"
        },
        "id": "nVs_xEHFjY5q",
        "outputId": "bffa7116-1c63-4c25-c47d-50d32cf3d16a"
      },
      "outputs": [
        {
          "output_type": "execute_result",
          "data": {
            "text/plain": [
              "2180"
            ]
          },
          "metadata": {},
          "execution_count": 14
        }
      ],
      "source": [
        "attack_total = len(df[df['Label'] != \"BENIGN\"])\n",
        "attack_total"
      ]
    },
    {
      "cell_type": "code",
      "execution_count": 15,
      "metadata": {
        "colab": {
          "base_uri": "https://localhost:8080/"
        },
        "id": "PFvPOea2jhMt",
        "outputId": "9483f05d-44bc-4a50-fe4f-7b58b9c91af2"
      },
      "outputs": [
        {
          "output_type": "execute_result",
          "data": {
            "text/plain": [
              "BENIGN                        168186\n",
              "Web Attack – Brute Force        1507\n",
              "Web Attack – XSS                 652\n",
              "Web Attack – Sql Injection        21\n",
              "Name: Label, dtype: int64"
            ]
          },
          "metadata": {},
          "execution_count": 15
        }
      ],
      "source": [
        "df.to_csv(\"web_attacks_unbalanced.csv\", index=False)\n",
        "df['Label'].value_counts()"
      ]
    },
    {
      "cell_type": "markdown",
      "metadata": {
        "id": "6A9-rS7OjyFl"
      },
      "source": [
        "We use **undersampling** to correct class imbalances: we remove most of the \"BENIGN\" records.\n",
        "\n",
        "Form a balanced dataset web_attacks_balanced.csv in proportion: 30% attack (2180 records), 70% benign data (2180 / 30 * 70 ~ = 5087 records).\n",
        "\n",
        "Algorithm to form a balanced df_balanced dataset:\n",
        "\n",
        "* All the records with the attacks are copied to the new dataset.\n",
        "* There are two conditions for copying \"BENIGN\" records to the new dataset:\n",
        " \n",
        "     1. The next record is copyied with the benign_inc_probability.\n",
        "     2. The total number of \"BENIGN\" records must not exceed the limit of 5087 records."
      ]
    },
    {
      "cell_type": "markdown",
      "metadata": {
        "id": "aVZutNOZj_N9"
      },
      "source": [
        "Сalculate the probability of copying a \"BENIGN\" record. The enlargement multiplier is used to get exactly 70% benign data (5087 records)."
      ]
    },
    {
      "cell_type": "code",
      "execution_count": 16,
      "metadata": {
        "colab": {
          "base_uri": "https://localhost:8080/"
        },
        "id": "XaW7sEjHkB3K",
        "outputId": "24150c2a-c0b3-477b-d09b-e77833e4a80c"
      },
      "outputs": [
        {
          "output_type": "stream",
          "name": "stdout",
          "text": [
            "5086.666666666667 0.03326872232726466\n"
          ]
        }
      ],
      "source": [
        "enlargement = 1.1\n",
        "benign_included_max = attack_total / 30 * 70\n",
        "benign_inc_probability = (benign_included_max / benign_total) * enlargement\n",
        "print(benign_included_max, benign_inc_probability)"
      ]
    },
    {
      "cell_type": "markdown",
      "metadata": {
        "id": "G3ZXh6fTkFK_"
      },
      "source": [
        "Copy records from df to df_balanced, save dataset **web_attacks_balanced.csv**."
      ]
    },
    {
      "cell_type": "code",
      "execution_count": 17,
      "metadata": {
        "id": "0MdiMPmdkICk"
      },
      "outputs": [],
      "source": [
        "import random\n",
        "indexes = []\n",
        "benign_included_count = 0\n",
        "for index, row in df.iterrows():\n",
        "    if (row['Label'] != \"BENIGN\"):\n",
        "        indexes.append(index)\n",
        "    else:\n",
        "        # Copying with benign_inc_probability\n",
        "        if random.random() > benign_inc_probability: continue\n",
        "        # Have we achieved 70% (5087 records)?\n",
        "        if benign_included_count > benign_included_max: continue\n",
        "        benign_included_count += 1\n",
        "        indexes.append(index)\n",
        "df_balanced = df.loc[indexes]"
      ]
    },
    {
      "cell_type": "code",
      "execution_count": 18,
      "metadata": {
        "colab": {
          "base_uri": "https://localhost:8080/"
        },
        "id": "cqypBDIdkKN4",
        "outputId": "d1038120-db83-4778-8a9e-490a7eded0fb"
      },
      "outputs": [
        {
          "output_type": "execute_result",
          "data": {
            "text/plain": [
              "BENIGN                        5087\n",
              "Web Attack – Brute Force      1507\n",
              "Web Attack – XSS               652\n",
              "Web Attack – Sql Injection      21\n",
              "Name: Label, dtype: int64"
            ]
          },
          "metadata": {},
          "execution_count": 18
        }
      ],
      "source": [
        "df_balanced['Label'].value_counts()"
      ]
    },
    {
      "cell_type": "markdown",
      "metadata": {
        "id": "hDPCkmutkNYD"
      },
      "source": [
        "If necessary, we can keep a single class of attack for experiments."
      ]
    },
    {
      "cell_type": "code",
      "execution_count": 19,
      "metadata": {
        "id": "1_q52wjdkPZ8"
      },
      "outputs": [],
      "source": [
        "# df_balanced = df_balanced[df_balanced['Label'] != \"Web Attack – Brute Force\"]\n",
        "# df_balanced = df_balanced[df_balanced['Label'] != \"Web Attack – Sql Injection\"]\n",
        "# df_balanced['Label'].value_counts()"
      ]
    },
    {
      "cell_type": "code",
      "execution_count": 20,
      "metadata": {
        "id": "qiYFzlGkkSXe"
      },
      "outputs": [],
      "source": [
        "df_balanced.to_csv(\"web_attacks_balanced.csv\", index=False)"
      ]
    },
    {
      "cell_type": "markdown",
      "metadata": {
        "id": "-IEyQxBDt5sG"
      },
      "source": [
        "### Preparing data for training"
      ]
    },
    {
      "cell_type": "code",
      "execution_count": 21,
      "metadata": {
        "id": "1JkUL4JyDUv6"
      },
      "outputs": [],
      "source": [
        "df = pd.read_csv('web_attacks_balanced.csv')"
      ]
    },
    {
      "cell_type": "markdown",
      "metadata": {
        "id": "9irPSOXXDUv6"
      },
      "source": [
        "The Label column is encoded as follows: \"BENIGN\" = 0, attack = 1."
      ]
    },
    {
      "cell_type": "code",
      "execution_count": 22,
      "metadata": {
        "id": "I8IURK8oDUv6"
      },
      "outputs": [],
      "source": [
        "df['Label'] = df['Label'].apply(lambda x: 0 if x == 'BENIGN' else 1)"
      ]
    },
    {
      "cell_type": "markdown",
      "metadata": {
        "id": "_KKf9qcdDUv6"
      },
      "source": [
        "If necessary, we will work with our own dataset."
      ]
    },
    {
      "cell_type": "code",
      "execution_count": 23,
      "metadata": {
        "id": "Xa_B_qO5DUv6"
      },
      "outputs": [],
      "source": [
        "#!wget https://raw.githubusercontent.com/infosecdemos/ml-2020/master/ml-ids/datasets/mix_labelled.zip -O mix_labelled.zip\n",
        "#!unzip -u mix_labelled.zip"
      ]
    },
    {
      "cell_type": "code",
      "execution_count": 24,
      "metadata": {
        "id": "EQ_dVZOeDUv6"
      },
      "outputs": [],
      "source": [
        "#df = pd.read_csv('mix_labelled.csv')\n",
        "#excluded = ['Flow Key', 'Flow Bytes/s', 'Flow MB/s', 'Fwd IAT Min', \n",
        "#            'Flow IAT Min', 'Packet Length Mean', 'Average Fwd Segment Size', 'Subflow Fwd Bytes',\n",
        "#            'Fwd Packets/s', 'Fwd IAT Total', 'Fwd IAT Max', 'Fwd IAT Mean',\n",
        "#            'Average Bwd Segment Size', 'Bwd Packet Length Mean', 'Packet Length List', 'Total Fwd Packets',\n",
        "#            'Packet Length Std', 'Packet Length Variance', 'Total Backword Packets', 'Fwd Packet Length Std',\n",
        "#            'Total Length of Bwd Packets', 'Bwd Header Length']\n",
        "#df = df.drop(columns=excluded, errors='ignore')"
      ]
    },
    {
      "cell_type": "markdown",
      "metadata": {
        "id": "1k2G5UAEt9cw"
      },
      "source": [
        "7 features (Flow ID, Source IP, Source Port, Destination IP, Destination Port, Protocol, Timestamp) are excluded from the dataset. The hypothesis is that the \"shape\" of the data being transmitted is more important than these attributes. In addition, ports and addresses can be substituted by an attacker, so it is better that the ML algorithm does not take these features into account in training [Kostas2018]."
      ]
    },
    {
      "cell_type": "code",
      "execution_count": 25,
      "metadata": {
        "id": "8yza95R2t_1N"
      },
      "outputs": [],
      "source": [
        "excluded = ['Flow ID', 'Source IP', 'Source Port', 'Destination IP', 'Destination Port', 'Protocol', 'Timestamp']\n",
        "df = df.drop(columns=excluded, errors='ignore')"
      ]
    },
    {
      "cell_type": "markdown",
      "metadata": {
        "id": "eCxptOz2uDIV"
      },
      "source": [
        "Below at the stage of importance estimation the \"Init_Win_bytes_backward\" feature has the maximum value. After viewing the source dataset, it seems that an inaccuracy was made in forming the dataset. \n",
        "\n",
        "It turns out that it is possible to make a fairly accurate classification by one feature.\n",
        "\n",
        "Description of features: http://www.netflowmeter.ca/netflowmeter.html\n",
        "\n",
        "     Init_Win_bytes_backward - The total number of bytes sent in initial window in the backward direction\n",
        "     Init_Win_bytes_forward - The total number of bytes sent in initial window in the forward direction"
      ]
    },
    {
      "cell_type": "code",
      "execution_count": 26,
      "metadata": {
        "colab": {
          "base_uri": "https://localhost:8080/",
          "height": 295
        },
        "id": "lYhtGKqJuUQA",
        "outputId": "364aa096-86f9-4119-c7ce-94d5f2bb671e"
      },
      "outputs": [
        {
          "output_type": "display_data",
          "data": {
            "text/plain": [
              "<Figure size 432x288 with 1 Axes>"
            ],
            "image/png": "[encoded data removed]"
          },
          "metadata": {
            "needs_background": "light"
          }
        }
      ],
      "source": [
        "if 'Init_Win_bytes_backward' in df.columns:\n",
        "    df['Init_Win_bytes_backward'].hist(figsize=(6,4), bins=10);\n",
        "    plt.title(\"Init_Win_bytes_backward\")\n",
        "    plt.xlabel(\"Value bins\")\n",
        "    plt.ylabel(\"Density\")\n",
        "    plt.savefig('Init_Win_bytes_backward.png', dpi=300)"
      ]
    },
    {
      "cell_type": "code",
      "execution_count": 27,
      "metadata": {
        "colab": {
          "base_uri": "https://localhost:8080/",
          "height": 295
        },
        "id": "XPbBcbj_uYMV",
        "outputId": "f44a4016-265d-403f-fc53-5a50d5668358"
      },
      "outputs": [
        {
          "output_type": "display_data",
          "data": {
            "text/plain": [
              "<Figure size 432x288 with 1 Axes>"
            ],
            "image/png": "[encoded data removed]"
          },
          "metadata": {
            "needs_background": "light"
          }
        }
      ],
      "source": [
        "if 'Init_Win_bytes_forward' in df.columns:\n",
        "    df['Init_Win_bytes_forward'].hist(figsize=(6,4), bins=10);\n",
        "    plt.title(\"Init_Win_bytes_forward\")\n",
        "    plt.xlabel(\"Value bins\")\n",
        "    plt.ylabel(\"Density\")\n",
        "    plt.savefig('Init_Win_bytes_forward.png', dpi=300)"
      ]
    },
    {
      "cell_type": "code",
      "execution_count": 28,
      "metadata": {
        "id": "Uw6liMMducM5"
      },
      "outputs": [],
      "source": [
        "excluded2 = ['Init_Win_bytes_backward', 'Init_Win_bytes_forward']\n",
        "df = df.drop(columns=excluded2, errors='ignore')"
      ]
    },
    {
      "cell_type": "code",
      "execution_count": 29,
      "metadata": {
        "colab": {
          "base_uri": "https://localhost:8080/"
        },
        "id": "a-FDOBmOufo6",
        "outputId": "047d2c69-8b1c-413e-8399-bb54938a3156"
      },
      "outputs": [
        {
          "output_type": "stream",
          "name": "stdout",
          "text": [
            "(7267, 74) (7267,)\n"
          ]
        }
      ],
      "source": [
        "y = df['Label'].values\n",
        "X = df.drop(columns=['Label'])\n",
        "print(X.shape, y.shape)"
      ]
    },
    {
      "cell_type": "markdown",
      "metadata": {
        "id": "3P69z9kfupES"
      },
      "source": [
        "## Feature importance"
      ]
    },
    {
      "cell_type": "code",
      "execution_count": 30,
      "metadata": {
        "colab": {
          "base_uri": "https://localhost:8080/"
        },
        "id": "4BbvfnjTuzeX",
        "outputId": "86e485be-04c5-45ea-c05e-d1f525fa6367"
      },
      "outputs": [
        {
          "output_type": "execute_result",
          "data": {
            "text/plain": [
              "{0: 3571, 1: 1515}"
            ]
          },
          "metadata": {},
          "execution_count": 30
        }
      ],
      "source": [
        "from sklearn.model_selection import train_test_split\n",
        "X_train, X_test, y_train, y_test = train_test_split(X, y, test_size=0.3, random_state=42)\n",
        "\n",
        "unique, counts = np.unique(y_train, return_counts=True)\n",
        "dict(zip(unique, counts))"
      ]
    },
    {
      "cell_type": "markdown",
      "metadata": {
        "id": "wE4AwrX1u6Hj"
      },
      "source": [
        "### Visualization of the decision tree, importance evaluation using a single tree (DecisionTreeClassifier)\n",
        " \n",
        "In the beginning we use one tree - for the convenience of visualization of the classifier. High cross-validation scores even with 5 leaves look suspiciously good, we should look at the data carefully. Parameters for change - test_size in the cell above (train_test_split), max_leaf_nodes in the cell below.\n",
        " \n",
        "By changing the **random_state** parameter, we will get different trees and different features with the highest importance. But the forest will already average individual trees below."
      ]
    },
    {
      "cell_type": "code",
      "execution_count": 31,
      "metadata": {
        "colab": {
          "base_uri": "https://localhost:8080/"
        },
        "id": "JtVUvneuyAeI",
        "outputId": "28a368ed-cbcd-4966-96f2-8f6f64b39544"
      },
      "outputs": [
        {
          "output_type": "execute_result",
          "data": {
            "text/plain": [
              "array([0.96856582, 0.95874263, 0.95874263, 0.96660118, 0.96070727,\n",
              "       0.95874263, 0.96456693, 0.97244094, 0.96062992, 0.95669291])"
            ]
          },
          "metadata": {},
          "execution_count": 31
        }
      ],
      "source": [
        "from sklearn.model_selection import cross_val_score\n",
        "from sklearn.tree import DecisionTreeClassifier\n",
        "decision_tree = DecisionTreeClassifier(max_leaf_nodes=5, random_state=0)\n",
        "decision_tree = decision_tree.fit(X_train, y_train)\n",
        "cross_val_score(decision_tree, X_train, y_train, cv=10)"
      ]
    },
    {
      "cell_type": "code",
      "execution_count": 32,
      "metadata": {
        "colab": {
          "base_uri": "https://localhost:8080/"
        },
        "id": "cITpkfwyCqqU",
        "outputId": "95e71003-d859-4bd4-a877-edae8a110a94"
      },
      "outputs": [
        {
          "output_type": "stream",
          "name": "stdout",
          "text": [
            "|--- Max Packet Length <= 1.00\n",
            "|   |--- Fwd Header Length <= 100.00\n",
            "|   |   |--- class: 0\n",
            "|   |--- Fwd Header Length >  100.00\n",
            "|   |   |--- Fwd IAT Min <= 15191.50\n",
            "|   |   |   |--- class: 1\n",
            "|   |   |--- Fwd IAT Min >  15191.50\n",
            "|   |   |   |--- class: 0\n",
            "|--- Max Packet Length >  1.00\n",
            "|   |--- Total Length of Fwd Packets <= 34129.00\n",
            "|   |   |--- class: 0\n",
            "|   |--- Total Length of Fwd Packets >  34129.00\n",
            "|   |   |--- class: 1\n",
            "\n"
          ]
        }
      ],
      "source": [
        "from sklearn.tree import export_text\n",
        "r = export_text(decision_tree, feature_names=X_train.columns.to_list())\n",
        "print(r)"
      ]
    },
    {
      "cell_type": "code",
      "execution_count": 33,
      "metadata": {
        "colab": {
          "base_uri": "https://localhost:8080/",
          "height": 0
        },
        "id": "6xpZlcv_-J_W",
        "outputId": "66032593-b358-4002-e001-e260e67b2c35"
      },
      "outputs": [
        {
          "output_type": "execute_result",
          "data": {
            "text/plain": [
              "<graphviz.files.Source at 0x7f3e35f80690>"
            ],
            "image/svg+xml": "<?xml version=\"1.0\" encoding=\"UTF-8\" standalone=\"no\"?>\n<!DOCTYPE svg PUBLIC \"-//W3C//DTD SVG 1.1//EN\"\n \"http://www.w3.org/Graphics/SVG/1.1/DTD/svg11.dtd\">\n<!-- Generated by graphviz version 2.40.1 (20161225.0304)\n -->\n<!-- Title: Tree Pages: 1 -->\n<svg width=\"652pt\" height=\"373pt\"\n viewBox=\"0.00 0.00 651.50 373.00\" xmlns=\"http://www.w3.org/2000/svg\" xmlns:xlink=\"http://www.w3.org/1999/xlink\">\n<g id=\"graph0\" class=\"graph\" transform=\"scale(1 1) rotate(0) translate(4 369)\">\n<title>Tree</title>\n<polygon fill=\"#ffffff\" stroke=\"transparent\" points=\"-4,4 -4,-369 647.5,-369 647.5,4 -4,4\"/>\n<!-- 0 -->\n<g id=\"node1\" class=\"node\">\n<title>0</title>\n<polygon fill=\"none\" stroke=\"#000000\" points=\"437,-365 251,-365 251,-297 437,-297 437,-365\"/>\n<text text-anchor=\"middle\" x=\"344\" y=\"-349.8\" font-family=\"Helvetica,sans-Serif\" font-size=\"14.00\" fill=\"#000000\">Max Packet Length &lt;= 1.0</text>\n<text text-anchor=\"middle\" x=\"344\" y=\"-334.8\" font-family=\"Helvetica,sans-Serif\" font-size=\"14.00\" fill=\"#000000\">gini = 0.418</text>\n<text text-anchor=\"middle\" x=\"344\" y=\"-319.8\" font-family=\"Helvetica,sans-Serif\" font-size=\"14.00\" fill=\"#000000\">samples = 5086</text>\n<text text-anchor=\"middle\" x=\"344\" y=\"-304.8\" font-family=\"Helvetica,sans-Serif\" font-size=\"14.00\" fill=\"#000000\">value = [3571, 1515]</text>\n</g>\n<!-- 1 -->\n<g id=\"node2\" class=\"node\">\n<title>1</title>\n<polygon fill=\"none\" stroke=\"#000000\" points=\"317,-261 111,-261 111,-193 317,-193 317,-261\"/>\n<text text-anchor=\"middle\" x=\"214\" y=\"-245.8\" font-family=\"Helvetica,sans-Serif\" font-size=\"14.00\" fill=\"#000000\">Fwd Header Length &lt;= 100.0</text>\n<text text-anchor=\"middle\" x=\"214\" y=\"-230.8\" font-family=\"Helvetica,sans-Serif\" font-size=\"14.00\" fill=\"#000000\">gini = 0.312</text>\n<text text-anchor=\"middle\" x=\"214\" y=\"-215.8\" font-family=\"Helvetica,sans-Serif\" font-size=\"14.00\" fill=\"#000000\">samples = 1727</text>\n<text text-anchor=\"middle\" x=\"214\" y=\"-200.8\" font-family=\"Helvetica,sans-Serif\" font-size=\"14.00\" fill=\"#000000\">value = [334, 1393]</text>\n</g>\n<!-- 0&#45;&gt;1 -->\n<g id=\"edge1\" class=\"edge\">\n<title>0&#45;&gt;1</title>\n<path fill=\"none\" stroke=\"#000000\" d=\"M301.4331,-296.9465C289.6488,-287.519 276.7432,-277.1946 264.5519,-267.4415\"/>\n<polygon fill=\"#000000\" stroke=\"#000000\" points=\"266.6577,-264.6439 256.6625,-261.13 262.2848,-270.11 266.6577,-264.6439\"/>\n<text text-anchor=\"middle\" x=\"259.4233\" y=\"-282.2771\" font-family=\"Helvetica,sans-Serif\" font-size=\"14.00\" fill=\"#000000\">True</text>\n</g>\n<!-- 2 -->\n<g id=\"node7\" class=\"node\">\n<title>2</title>\n<polygon fill=\"none\" stroke=\"#000000\" points=\"612.5,-261 335.5,-261 335.5,-193 612.5,-193 612.5,-261\"/>\n<text text-anchor=\"middle\" x=\"474\" y=\"-245.8\" font-family=\"Helvetica,sans-Serif\" font-size=\"14.00\" fill=\"#000000\">Total Length of Fwd Packets &lt;= 34129.0</text>\n<text text-anchor=\"middle\" x=\"474\" y=\"-230.8\" font-family=\"Helvetica,sans-Serif\" font-size=\"14.00\" fill=\"#000000\">gini = 0.07</text>\n<text text-anchor=\"middle\" x=\"474\" y=\"-215.8\" font-family=\"Helvetica,sans-Serif\" font-size=\"14.00\" fill=\"#000000\">samples = 3359</text>\n<text text-anchor=\"middle\" x=\"474\" y=\"-200.8\" font-family=\"Helvetica,sans-Serif\" font-size=\"14.00\" fill=\"#000000\">value = [3237, 122]</text>\n</g>\n<!-- 0&#45;&gt;2 -->\n<g id=\"edge6\" class=\"edge\">\n<title>0&#45;&gt;2</title>\n<path fill=\"none\" stroke=\"#000000\" d=\"M386.5669,-296.9465C398.3512,-287.519 411.2568,-277.1946 423.4481,-267.4415\"/>\n<polygon fill=\"#000000\" stroke=\"#000000\" points=\"425.7152,-270.11 431.3375,-261.13 421.3423,-264.6439 425.7152,-270.11\"/>\n<text text-anchor=\"middle\" x=\"428.5767\" y=\"-282.2771\" font-family=\"Helvetica,sans-Serif\" font-size=\"14.00\" fill=\"#000000\">False</text>\n</g>\n<!-- 3 -->\n<g id=\"node3\" class=\"node\">\n<title>3</title>\n<polygon fill=\"none\" stroke=\"#000000\" points=\"132,-149.5 0,-149.5 0,-96.5 132,-96.5 132,-149.5\"/>\n<text text-anchor=\"middle\" x=\"66\" y=\"-134.3\" font-family=\"Helvetica,sans-Serif\" font-size=\"14.00\" fill=\"#000000\">gini = 0.384</text>\n<text text-anchor=\"middle\" x=\"66\" y=\"-119.3\" font-family=\"Helvetica,sans-Serif\" font-size=\"14.00\" fill=\"#000000\">samples = 429</text>\n<text text-anchor=\"middle\" x=\"66\" y=\"-104.3\" font-family=\"Helvetica,sans-Serif\" font-size=\"14.00\" fill=\"#000000\">value = [318, 111]</text>\n</g>\n<!-- 1&#45;&gt;3 -->\n<g id=\"edge2\" class=\"edge\">\n<title>1&#45;&gt;3</title>\n<path fill=\"none\" stroke=\"#000000\" d=\"M165.5393,-192.9465C148.4535,-180.9403 129.2972,-167.4791 112.387,-155.5962\"/>\n<polygon fill=\"#000000\" stroke=\"#000000\" points=\"113.9658,-152.428 103.7715,-149.5422 109.9412,-158.1553 113.9658,-152.428\"/>\n</g>\n<!-- 4 -->\n<g id=\"node4\" class=\"node\">\n<title>4</title>\n<polygon fill=\"none\" stroke=\"#000000\" points=\"324,-157 150,-157 150,-89 324,-89 324,-157\"/>\n<text text-anchor=\"middle\" x=\"237\" y=\"-141.8\" font-family=\"Helvetica,sans-Serif\" font-size=\"14.00\" fill=\"#000000\">Fwd IAT Min &lt;= 15191.5</text>\n<text text-anchor=\"middle\" x=\"237\" y=\"-126.8\" font-family=\"Helvetica,sans-Serif\" font-size=\"14.00\" fill=\"#000000\">gini = 0.024</text>\n<text text-anchor=\"middle\" x=\"237\" y=\"-111.8\" font-family=\"Helvetica,sans-Serif\" font-size=\"14.00\" fill=\"#000000\">samples = 1298</text>\n<text text-anchor=\"middle\" x=\"237\" y=\"-96.8\" font-family=\"Helvetica,sans-Serif\" font-size=\"14.00\" fill=\"#000000\">value = [16, 1282]</text>\n</g>\n<!-- 1&#45;&gt;4 -->\n<g id=\"edge3\" class=\"edge\">\n<title>1&#45;&gt;4</title>\n<path fill=\"none\" stroke=\"#000000\" d=\"M221.5311,-192.9465C223.3578,-184.6863 225.3369,-175.7374 227.2499,-167.0875\"/>\n<polygon fill=\"#000000\" stroke=\"#000000\" points=\"230.71,-167.6499 229.452,-157.13 223.8752,-166.1383 230.71,-167.6499\"/>\n</g>\n<!-- 7 -->\n<g id=\"node5\" class=\"node\">\n<title>7</title>\n<polygon fill=\"none\" stroke=\"#000000\" points=\"232,-53 108,-53 108,0 232,0 232,-53\"/>\n<text text-anchor=\"middle\" x=\"170\" y=\"-37.8\" font-family=\"Helvetica,sans-Serif\" font-size=\"14.00\" fill=\"#000000\">gini = 0.0</text>\n<text text-anchor=\"middle\" x=\"170\" y=\"-22.8\" font-family=\"Helvetica,sans-Serif\" font-size=\"14.00\" fill=\"#000000\">samples = 1282</text>\n<text text-anchor=\"middle\" x=\"170\" y=\"-7.8\" font-family=\"Helvetica,sans-Serif\" font-size=\"14.00\" fill=\"#000000\">value = [0, 1282]</text>\n</g>\n<!-- 4&#45;&gt;7 -->\n<g id=\"edge4\" class=\"edge\">\n<title>4&#45;&gt;7</title>\n<path fill=\"none\" stroke=\"#000000\" d=\"M213.3783,-88.9777C207.2113,-80.0954 200.5539,-70.5067 194.3499,-61.5711\"/>\n<polygon fill=\"#000000\" stroke=\"#000000\" points=\"197.1497,-59.4666 188.5715,-53.2485 191.3997,-63.4589 197.1497,-59.4666\"/>\n</g>\n<!-- 8 -->\n<g id=\"node6\" class=\"node\">\n<title>8</title>\n<polygon fill=\"none\" stroke=\"#000000\" points=\"357.5,-53 250.5,-53 250.5,0 357.5,0 357.5,-53\"/>\n<text text-anchor=\"middle\" x=\"304\" y=\"-37.8\" font-family=\"Helvetica,sans-Serif\" font-size=\"14.00\" fill=\"#000000\">gini = 0.0</text>\n<text text-anchor=\"middle\" x=\"304\" y=\"-22.8\" font-family=\"Helvetica,sans-Serif\" font-size=\"14.00\" fill=\"#000000\">samples = 16</text>\n<text text-anchor=\"middle\" x=\"304\" y=\"-7.8\" font-family=\"Helvetica,sans-Serif\" font-size=\"14.00\" fill=\"#000000\">value = [16, 0]</text>\n</g>\n<!-- 4&#45;&gt;8 -->\n<g id=\"edge5\" class=\"edge\">\n<title>4&#45;&gt;8</title>\n<path fill=\"none\" stroke=\"#000000\" d=\"M260.6217,-88.9777C266.7887,-80.0954 273.4461,-70.5067 279.6501,-61.5711\"/>\n<polygon fill=\"#000000\" stroke=\"#000000\" points=\"282.6003,-63.4589 285.4285,-53.2485 276.8503,-59.4666 282.6003,-63.4589\"/>\n</g>\n<!-- 5 -->\n<g id=\"node8\" class=\"node\">\n<title>5</title>\n<polygon fill=\"none\" stroke=\"#000000\" points=\"518,-149.5 386,-149.5 386,-96.5 518,-96.5 518,-149.5\"/>\n<text text-anchor=\"middle\" x=\"452\" y=\"-134.3\" font-family=\"Helvetica,sans-Serif\" font-size=\"14.00\" fill=\"#000000\">gini = 0.038</text>\n<text text-anchor=\"middle\" x=\"452\" y=\"-119.3\" font-family=\"Helvetica,sans-Serif\" font-size=\"14.00\" fill=\"#000000\">samples = 3296</text>\n<text text-anchor=\"middle\" x=\"452\" y=\"-104.3\" font-family=\"Helvetica,sans-Serif\" font-size=\"14.00\" fill=\"#000000\">value = [3232, 64]</text>\n</g>\n<!-- 2&#45;&gt;5 -->\n<g id=\"edge7\" class=\"edge\">\n<title>2&#45;&gt;5</title>\n<path fill=\"none\" stroke=\"#000000\" d=\"M466.7964,-192.9465C464.5362,-182.2621 462.0323,-170.4254 459.7369,-159.5742\"/>\n<polygon fill=\"#000000\" stroke=\"#000000\" points=\"463.1086,-158.6013 457.6147,-149.5422 456.2601,-160.05 463.1086,-158.6013\"/>\n</g>\n<!-- 6 -->\n<g id=\"node9\" class=\"node\">\n<title>6</title>\n<polygon fill=\"none\" stroke=\"#000000\" points=\"643.5,-149.5 536.5,-149.5 536.5,-96.5 643.5,-96.5 643.5,-149.5\"/>\n<text text-anchor=\"middle\" x=\"590\" y=\"-134.3\" font-family=\"Helvetica,sans-Serif\" font-size=\"14.00\" fill=\"#000000\">gini = 0.146</text>\n<text text-anchor=\"middle\" x=\"590\" y=\"-119.3\" font-family=\"Helvetica,sans-Serif\" font-size=\"14.00\" fill=\"#000000\">samples = 63</text>\n<text text-anchor=\"middle\" x=\"590\" y=\"-104.3\" font-family=\"Helvetica,sans-Serif\" font-size=\"14.00\" fill=\"#000000\">value = [5, 58]</text>\n</g>\n<!-- 2&#45;&gt;6 -->\n<g id=\"edge8\" class=\"edge\">\n<title>2&#45;&gt;6</title>\n<path fill=\"none\" stroke=\"#000000\" d=\"M511.9827,-192.9465C525.1286,-181.1606 539.8382,-167.9726 552.9113,-156.2519\"/>\n<polygon fill=\"#000000\" stroke=\"#000000\" points=\"555.286,-158.8236 560.3953,-149.5422 550.6131,-153.6116 555.286,-158.8236\"/>\n</g>\n</g>\n</svg>\n"
          },
          "metadata": {},
          "execution_count": 33
        }
      ],
      "source": [
        "from graphviz import Source\n",
        "from sklearn import tree\n",
        "Source(tree.export_graphviz(decision_tree, out_file=None, feature_names=X.columns))"
      ]
    },
    {
      "cell_type": "markdown",
      "metadata": {
        "id": "b99AtZuj-NR8"
      },
      "source": [
        "Analyze the confusion matrix. Which classes are confidently classified by the model?"
      ]
    },
    {
      "cell_type": "code",
      "execution_count": 34,
      "metadata": {
        "colab": {
          "base_uri": "https://localhost:8080/"
        },
        "id": "-7IrLSAx-PuK",
        "outputId": "f43371e2-9dbb-42fb-8ba3-2f2bfc3f033a"
      },
      "outputs": [
        {
          "output_type": "execute_result",
          "data": {
            "text/plain": [
              "{0: 1516, 1: 665}"
            ]
          },
          "metadata": {},
          "execution_count": 34
        }
      ],
      "source": [
        "unique, counts = np.unique(y_test, return_counts=True)\n",
        "dict(zip(unique, counts))"
      ]
    },
    {
      "cell_type": "code",
      "execution_count": 35,
      "metadata": {
        "colab": {
          "base_uri": "https://localhost:8080/"
        },
        "id": "a9iK4zQt-SlP",
        "outputId": "84f14356-31c3-4690-e3ad-d354f4e125ca"
      },
      "outputs": [
        {
          "output_type": "execute_result",
          "data": {
            "text/plain": [
              "array([[1515,    1],\n",
              "       [ 100,  565]])"
            ]
          },
          "metadata": {},
          "execution_count": 35
        }
      ],
      "source": [
        "from sklearn.metrics import confusion_matrix\n",
        "y_pred = decision_tree.predict(X_test)\n",
        "confusion_matrix(y_test, y_pred)"
      ]
    },
    {
      "cell_type": "markdown",
      "metadata": {
        "id": "suPDWnoYaEPD"
      },
      "source": [
        "### Importance evaluation using SelectFromModel (still one decision tree)\n",
        "\n",
        "Source: https://github.com/oreilly-mlsec/book-resources/blob/master/chapter2/select-from-model-nslkdd.ipynb"
      ]
    },
    {
      "cell_type": "code",
      "execution_count": 36,
      "metadata": {
        "colab": {
          "base_uri": "https://localhost:8080/"
        },
        "id": "hm7PM7f_aRei",
        "outputId": "1ca4225c-c70c-4e83-9abe-23ae1ed46f23"
      },
      "outputs": [
        {
          "output_type": "execute_result",
          "data": {
            "text/plain": [
              "array([0.        , 0.        , 0.        , 0.05492805, 0.        ,\n",
              "       0.        , 0.        , 0.        , 0.        , 0.        ,\n",
              "       0.        , 0.        , 0.        , 0.        , 0.        ,\n",
              "       0.        , 0.        , 0.        , 0.        , 0.        ,\n",
              "       0.        , 0.        , 0.        , 0.01728823, 0.        ,\n",
              "       0.        , 0.        , 0.        , 0.        , 0.        ,\n",
              "       0.        , 0.        , 0.        , 0.18742652, 0.        ,\n",
              "       0.        , 0.        , 0.        , 0.74035719, 0.        ,\n",
              "       0.        , 0.        , 0.        , 0.        , 0.        ,\n",
              "       0.        , 0.        , 0.        , 0.        , 0.        ,\n",
              "       0.        , 0.        , 0.        , 0.        , 0.        ,\n",
              "       0.        , 0.        , 0.        , 0.        , 0.        ,\n",
              "       0.        , 0.        , 0.        , 0.        , 0.        ,\n",
              "       0.        , 0.        , 0.        , 0.        , 0.        ,\n",
              "       0.        , 0.        , 0.        , 0.        ])"
            ]
          },
          "metadata": {},
          "execution_count": 36
        }
      ],
      "source": [
        "from sklearn.feature_selection import SelectFromModel\n",
        "sfm = SelectFromModel(estimator=decision_tree).fit(X_train, y_train)\n",
        "sfm.estimator_.feature_importances_"
      ]
    },
    {
      "cell_type": "code",
      "execution_count": 37,
      "metadata": {
        "colab": {
          "base_uri": "https://localhost:8080/"
        },
        "id": "Y0Sx8yJ_aW33",
        "outputId": "d4a0f89c-682d-4e8e-8156-9ea6159d29c9"
      },
      "outputs": [
        {
          "output_type": "execute_result",
          "data": {
            "text/plain": [
              "0.013513513513513513"
            ]
          },
          "metadata": {},
          "execution_count": 37
        }
      ],
      "source": [
        "sfm.threshold_"
      ]
    },
    {
      "cell_type": "code",
      "execution_count": 38,
      "metadata": {
        "colab": {
          "base_uri": "https://localhost:8080/"
        },
        "id": "4iNlo5jIaaaL",
        "outputId": "b70a6717-b091-4159-98f1-578a51d58de6"
      },
      "outputs": [
        {
          "output_type": "stream",
          "name": "stdout",
          "text": [
            "Original num features: 74, selected num features: 4\n"
          ]
        }
      ],
      "source": [
        "X_train_new = sfm.transform(X_train)\n",
        "print(\"Original num features: {}, selected num features: {}\"\n",
        "      .format(X_train.shape[1], X_train_new.shape[1]))"
      ]
    },
    {
      "cell_type": "code",
      "execution_count": 39,
      "metadata": {
        "colab": {
          "base_uri": "https://localhost:8080/"
        },
        "id": "aBQxtLAwaegL",
        "outputId": "a47f56a3-b9d8-497f-cf0b-3a1ebdf9c172"
      },
      "outputs": [
        {
          "output_type": "stream",
          "name": "stdout",
          "text": [
            "0.\tMax Packet Length - 0.7403571913980928\n",
            "1.\tFwd Header Length - 0.18742652419190356\n",
            "2.\tTotal Length of Fwd Packets - 0.05492805223805604\n",
            "3.\tFwd IAT Min - 0.017288232171947575\n",
            "4.\tIdle Min - 0.0\n",
            "5.\tBwd IAT Std - 0.0\n",
            "6.\tFwd IAT Mean - 0.0\n",
            "7.\tFwd IAT Std - 0.0\n",
            "8.\tFwd IAT Max - 0.0\n",
            "9.\tBwd IAT Total - 0.0\n"
          ]
        }
      ],
      "source": [
        "indices = np.argsort(decision_tree.feature_importances_)[::-1]\n",
        "for idx, i in enumerate(indices[:10]):\n",
        "    print(\"{}.\\t{} - {}\".format(idx, X_train.columns[i], decision_tree.feature_importances_[i]))"
      ]
    },
    {
      "cell_type": "markdown",
      "metadata": {
        "id": "duGKUsAzal52"
      },
      "source": [
        "### Evaluation of importance using RandomForestClassifier.feature_importances_ (move from one tree to a random forest, classification quality increases)"
      ]
    },
    {
      "cell_type": "code",
      "execution_count": 40,
      "metadata": {
        "colab": {
          "base_uri": "https://localhost:8080/"
        },
        "id": "xo4E_wFeaqNd",
        "outputId": "2be76fb7-afcf-4f67-998a-f21dbb556a3b"
      },
      "outputs": [
        {
          "output_type": "stream",
          "name": "stdout",
          "text": [
            "R^2 Training Score: 0.99 \n",
            "R^2 Validation Score: 0.98 \n",
            "Out-of-bag Score: 0.98\n"
          ]
        }
      ],
      "source": [
        "from sklearn.ensemble import RandomForestClassifier\n",
        "\n",
        "rf = RandomForestClassifier(n_estimators=250, random_state=42, oob_score=True)\n",
        "rf.fit(X_train, y_train)\n",
        "# Score = mean accuracy on the given test data and labels\n",
        "print('R^2 Training Score: {:.2f} \\nR^2 Validation Score: {:.2f} \\nOut-of-bag Score: {:.2f}'\n",
        "      .format(rf.score(X_train, y_train), rf.score(X_test, y_test), rf.oob_score_))"
      ]
    },
    {
      "cell_type": "code",
      "execution_count": 41,
      "metadata": {
        "colab": {
          "base_uri": "https://localhost:8080/"
        },
        "id": "byV6krktawE_",
        "outputId": "b496b17f-aeeb-4b02-a0cf-33a9349bf9b9"
      },
      "outputs": [
        {
          "output_type": "stream",
          "name": "stdout",
          "text": [
            "1.\t#51\t0.088\tAverage Packet Size\n",
            "2.\t#13\t0.082\tFlow Bytes/s\n",
            "3.\t#38\t0.064\tMax Packet Length\n",
            "4.\t#39\t0.060\tPacket Length Mean\n",
            "5.\t#61\t0.059\tSubflow Fwd Bytes\n",
            "6.\t#7\t0.059\tFwd Packet Length Mean\n",
            "7.\t#23\t0.058\tFwd IAT Min\n",
            "8.\t#52\t0.045\tAvg Fwd Segment Size\n",
            "9.\t#3\t0.042\tTotal Length of Fwd Packets\n",
            "10.\t#5\t0.034\tFwd Packet Length Max\n",
            "11.\t#15\t0.033\tFlow IAT Mean\n",
            "12.\t#21\t0.032\tFwd IAT Std\n",
            "13.\t#33\t0.026\tFwd Header Length\n",
            "14.\t#0\t0.026\tFlow Duration\n",
            "15.\t#19\t0.023\tFwd IAT Total\n",
            "16.\t#35\t0.021\tFwd Packets/s\n",
            "17.\t#14\t0.020\tFlow Packets/s\n",
            "18.\t#20\t0.019\tFwd IAT Mean\n",
            "19.\t#16\t0.017\tFlow IAT Std\n",
            "20.\t#22\t0.016\tFwd IAT Max\n"
          ]
        }
      ],
      "source": [
        "features = X.columns\n",
        "importances = rf.feature_importances_\n",
        "indices = np.argsort(importances)[::-1]\n",
        "webattack_features = []\n",
        "\n",
        "for index, i in enumerate(indices[:20]):\n",
        "    webattack_features.append(features[i])\n",
        "    print('{}.\\t#{}\\t{:.3f}\\t{}'.format(index + 1, i, importances[i], features[i]))"
      ]
    },
    {
      "cell_type": "markdown",
      "metadata": {
        "id": "3RXQUuqHa11b"
      },
      "source": [
        "For comparison, the results of the study [Sharafaldin2018] (compare relatively, without taking into account the multiplier):\n",
        " \n",
        "* Init Win F.Bytes 0.0200\n",
        "* Subflow F.Bytes 0.0145\n",
        "* Init Win B.Bytes 0.0129\n",
        "* Total Len F.Packets 0.0096\n",
        "\n",
        "And incorrect results [Kostas2018] (error was found in assessing the importance of features, line: *impor_bars = pd.DataFrame({'Features':refclasscol[0:20],'importance':importances[0:20]})*, the importances[0:20] sample does not take into account that the values are not sorted in descending order):\n",
        " \n",
        "* Flow Bytes/s 0.313402\n",
        "* Total Length of Fwd Packets 0.304917\n",
        "* Flow Duration 0.000485\n",
        "* Fwd Packet Length Max 0.00013"
      ]
    },
    {
      "cell_type": "code",
      "execution_count": 42,
      "metadata": {
        "colab": {
          "base_uri": "https://localhost:8080/",
          "height": 0
        },
        "id": "TPxzWeP4bHa5",
        "outputId": "e7bc47c3-3f8f-4b52-eb9a-64103e5b4f82"
      },
      "outputs": [
        {
          "output_type": "display_data",
          "data": {
            "text/plain": [
              "<Figure size 720x432 with 1 Axes>"
            ],
            "image/png": "[encoded data removed]"
          },
          "metadata": {
            "needs_background": "light"
          }
        }
      ],
      "source": [
        "indices = np.argsort(importances)[-20:]\n",
        "plt.rcParams['figure.figsize'] = (10, 6)\n",
        "plt.title('Feature Importances')\n",
        "plt.barh(range(len(indices)), importances[indices], color='#cccccc', align='center')\n",
        "plt.yticks(range(len(indices)), [features[i] for i in indices])\n",
        "plt.xlabel('Relative Importance')\n",
        "plt.grid()\n",
        "plt.savefig('feature_importances.png', dpi=300, bbox_inches='tight')\n",
        "plt.show()"
      ]
    },
    {
      "cell_type": "code",
      "execution_count": 43,
      "metadata": {
        "colab": {
          "base_uri": "https://localhost:8080/"
        },
        "id": "QaYCrMC4cenU",
        "outputId": "aa652352-fdc3-4f33-e37d-a1583ab02e44"
      },
      "outputs": [
        {
          "output_type": "execute_result",
          "data": {
            "text/plain": [
              "array([[1497,   19],\n",
              "       [  34,  631]])"
            ]
          },
          "metadata": {},
          "execution_count": 43
        }
      ],
      "source": [
        "y_pred = rf.predict(X_test)\n",
        "confusion_matrix(y_test, y_pred)"
      ]
    },
    {
      "cell_type": "markdown",
      "metadata": {
        "id": "ktl5y47rcsiy"
      },
      "source": [
        "Next, for experiments, we keep the first max_features of features with maximum importance."
      ]
    },
    {
      "cell_type": "code",
      "execution_count": 44,
      "metadata": {
        "colab": {
          "base_uri": "https://localhost:8080/"
        },
        "id": "Xriaa8XicuoB",
        "outputId": "3775f136-d6f3-442d-9e9b-fe8e55b40455"
      },
      "outputs": [
        {
          "output_type": "execute_result",
          "data": {
            "text/plain": [
              "['Average Packet Size',\n",
              " 'Flow Bytes/s',\n",
              " 'Max Packet Length',\n",
              " 'Packet Length Mean',\n",
              " 'Subflow Fwd Bytes',\n",
              " 'Fwd Packet Length Mean',\n",
              " 'Fwd IAT Min',\n",
              " 'Avg Fwd Segment Size',\n",
              " 'Total Length of Fwd Packets',\n",
              " 'Fwd Packet Length Max',\n",
              " 'Flow IAT Mean',\n",
              " 'Fwd IAT Std',\n",
              " 'Fwd Header Length',\n",
              " 'Flow Duration',\n",
              " 'Fwd IAT Total',\n",
              " 'Fwd Packets/s',\n",
              " 'Flow Packets/s',\n",
              " 'Fwd IAT Mean',\n",
              " 'Flow IAT Std',\n",
              " 'Fwd IAT Max']"
            ]
          },
          "metadata": {},
          "execution_count": 44
        }
      ],
      "source": [
        "max_features = 20\n",
        "webattack_features = webattack_features[:max_features]\n",
        "webattack_features"
      ]
    },
    {
      "cell_type": "markdown",
      "metadata": {
        "id": "eLikdx9Legm0"
      },
      "source": [
        "## Analysis of selected features"
      ]
    },
    {
      "cell_type": "code",
      "execution_count": 45,
      "metadata": {
        "colab": {
          "base_uri": "https://localhost:8080/",
          "height": 0
        },
        "id": "l4AlTAUme5aJ",
        "outputId": "ee59782d-67d7-45fb-c9d5-11ae594948a8"
      },
      "outputs": [
        {
          "output_type": "display_data",
          "data": {
            "text/plain": [
              "<Figure size 1440x864 with 20 Axes>"
            ],
            "image/png": "[encoded data removed]"
          },
          "metadata": {
            "needs_background": "light"
          }
        }
      ],
      "source": [
        "df[webattack_features].hist(figsize=(20,12), bins=10);\n",
        "plt.savefig('features_hist.png', dpi=300)"
      ]
    },
    {
      "cell_type": "markdown",
      "metadata": {
        "id": "qURMpkLBf1ZH"
      },
      "source": [
        "Install Facets Overview\n",
        "\n",
        "https://pair-code.github.io/facets/"
      ]
    },
    {
      "cell_type": "code",
      "execution_count": 46,
      "metadata": {
        "colab": {
          "base_uri": "https://localhost:8080/"
        },
        "id": "QH4RxYR14jjz",
        "outputId": "d79f7a0b-cb95-46e5-891b-a04c911cdc9f"
      },
      "outputs": [
        {
          "output_type": "stream",
          "name": "stdout",
          "text": [
            "Looking in indexes: https://pypi.org/simple, https://us-python.pkg.dev/colab-wheels/public/simple/\n",
            "Collecting facets-overview\n",
            "  Downloading facets_overview-1.0.0-py2.py3-none-any.whl (24 kB)\n",
            "Requirement already satisfied: protobuf>=3.7.0 in /usr/local/lib/python3.7/dist-packages (from facets-overview) (3.17.3)\n",
            "Requirement already satisfied: pandas>=0.22.0 in /usr/local/lib/python3.7/dist-packages (from facets-overview) (1.3.5)\n",
            "Requirement already satisfied: numpy>=1.16.0 in /usr/local/lib/python3.7/dist-packages (from facets-overview) (1.21.6)\n",
            "Requirement already satisfied: pytz>=2017.3 in /usr/local/lib/python3.7/dist-packages (from pandas>=0.22.0->facets-overview) (2022.1)\n",
            "Requirement already satisfied: python-dateutil>=2.7.3 in /usr/local/lib/python3.7/dist-packages (from pandas>=0.22.0->facets-overview) (2.8.2)\n",
            "Requirement already satisfied: six>=1.9 in /usr/local/lib/python3.7/dist-packages (from protobuf>=3.7.0->facets-overview) (1.15.0)\n",
            "Installing collected packages: facets-overview\n",
            "Successfully installed facets-overview-1.0.0\n"
          ]
        }
      ],
      "source": [
        "!pip install facets-overview"
      ]
    },
    {
      "cell_type": "markdown",
      "metadata": {
        "id": "_A9f2J2tf9eA"
      },
      "source": [
        "Create the feature stats for the datasets and stringify it."
      ]
    },
    {
      "cell_type": "code",
      "execution_count": 47,
      "metadata": {
        "id": "0juU1aJQ44sk"
      },
      "outputs": [],
      "source": [
        "import base64\n",
        "from facets_overview.generic_feature_statistics_generator import GenericFeatureStatisticsGenerator\n",
        "\n",
        "gfsg = GenericFeatureStatisticsGenerator()\n",
        "proto = gfsg.ProtoFromDataFrames([{'name': 'train + test', 'table': df[webattack_features]}])\n",
        "protostr = base64.b64encode(proto.SerializeToString()).decode(\"utf-8\")"
      ]
    },
    {
      "cell_type": "markdown",
      "metadata": {
        "id": "9Wqs7qELgBkM"
      },
      "source": [
        "Display the facets overview visualization for this data."
      ]
    },
    {
      "cell_type": "code",
      "execution_count": 48,
      "metadata": {
        "colab": {
          "base_uri": "https://localhost:8080/",
          "height": 0
        },
        "id": "mYvQDTKH5YRr",
        "outputId": "2e5c4cc4-e0d1-4fac-e700-3d2f1cdf47dd"
      },
      "outputs": [
        {
          "output_type": "display_data",
          "data": {
            "text/plain": [
              "<IPython.core.display.HTML object>"
            ],
            "text/html": [
              "\n",
              "        <script src=\"https://cdnjs.cloudflare.com/ajax/libs/webcomponentsjs/1.3.3/webcomponents-lite.js\"></script>\n",
              "        <link rel=\"import\" href=\"https://raw.githubusercontent.com/PAIR-code/facets/1.0.0/facets-dist/facets-jupyter.html\" >\n",
              "        <facets-overview id=\"elem\"></facets-overview>\n",
              "        <script>\n",
              "          document.querySelector(\"#elem\").protoInput = \"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\";\n",
              "        </script>"
            ]
          },
          "metadata": {}
        }
      ],
      "source": [
        "from IPython.core.display import display, HTML\n",
        "\n",
        "HTML_TEMPLATE = \"\"\"\n",
        "        <script src=\"https://cdnjs.cloudflare.com/ajax/libs/webcomponentsjs/1.3.3/webcomponents-lite.js\"></script>\n",
        "        <link rel=\"import\" href=\"https://raw.githubusercontent.com/PAIR-code/facets/1.0.0/facets-dist/facets-jupyter.html\" >\n",
        "        <facets-overview id=\"elem\"></facets-overview>\n",
        "        <script>\n",
        "          document.querySelector(\"#elem\").protoInput = \"{protostr}\";\n",
        "        </script>\"\"\"\n",
        "html = HTML_TEMPLATE.format(protostr=protostr)\n",
        "display(HTML(html))"
      ]
    },
    {
      "cell_type": "code",
      "execution_count": 49,
      "metadata": {
        "colab": {
          "base_uri": "https://localhost:8080/",
          "height": 0
        },
        "id": "IIqD-DjrgbIr",
        "outputId": "b9d479a5-8a28-4ac2-d063-acad200a72a0"
      },
      "outputs": [
        {
          "output_type": "display_data",
          "data": {
            "text/plain": [
              "<Figure size 1152x360 with 2 Axes>"
            ],
            "image/png": "[encoded data removed]"
          },
          "metadata": {
            "needs_background": "light"
          }
        }
      ],
      "source": [
        "import seaborn as sns\n",
        "corr_matrix = df[webattack_features].corr()\n",
        "plt.rcParams['figure.figsize'] = (16, 5)\n",
        "g = sns.heatmap(corr_matrix, annot=True, fmt='.1g', cmap='Greys')\n",
        "g.set_xticklabels(g.get_xticklabels(), verticalalignment='top', horizontalalignment='right', rotation=30);\n",
        "plt.savefig('corr_heatmap.png', dpi=300, bbox_inches='tight')"
      ]
    },
    {
      "cell_type": "markdown",
      "metadata": {
        "id": "r2J6Pz0xglza"
      },
      "source": [
        "Remove correlated features."
      ]
    },
    {
      "cell_type": "code",
      "execution_count": 50,
      "metadata": {
        "colab": {
          "base_uri": "https://localhost:8080/"
        },
        "id": "Nml7xnnqgoMz",
        "outputId": "face6be1-bea0-413b-8dd2-02d43e8f9423"
      },
      "outputs": [
        {
          "output_type": "execute_result",
          "data": {
            "text/plain": [
              "['Average Packet Size',\n",
              " 'Flow Bytes/s',\n",
              " 'Max Packet Length',\n",
              " 'Fwd Packet Length Mean',\n",
              " 'Fwd IAT Min',\n",
              " 'Total Length of Fwd Packets',\n",
              " 'Fwd Packet Length Max',\n",
              " 'Flow IAT Mean',\n",
              " 'Fwd IAT Std',\n",
              " 'Fwd Header Length']"
            ]
          },
          "metadata": {},
          "execution_count": 50
        }
      ],
      "source": [
        "to_be_removed = {'Packet Length Mean', 'Avg Fwd Segment Size', 'Subflow Fwd Bytes', \n",
        "                 'Fwd Packets/s', 'Fwd IAT Total', 'Fwd IAT Max'}\n",
        "webattack_features = [item for item in webattack_features if item not in to_be_removed]\n",
        "webattack_features = webattack_features[:10]\n",
        "webattack_features"
      ]
    },
    {
      "cell_type": "code",
      "execution_count": 51,
      "metadata": {
        "colab": {
          "base_uri": "https://localhost:8080/",
          "height": 0
        },
        "id": "vHbm-bkbgDw8",
        "outputId": "ef4736c9-e9ab-43bb-c851-eefac31d3c14"
      },
      "outputs": [
        {
          "output_type": "display_data",
          "data": {
            "text/plain": [
              "<Figure size 432x360 with 2 Axes>"
            ],
            "image/png": "[encoded data removed]"
          },
          "metadata": {
            "needs_background": "light"
          }
        }
      ],
      "source": [
        "corr_matrix = df[webattack_features].corr()\n",
        "plt.rcParams['figure.figsize'] = (6, 5)\n",
        "sns.heatmap(corr_matrix, annot=True, fmt='.1g', cmap='Greys');"
      ]
    },
    {
      "cell_type": "markdown",
      "metadata": {
        "id": "eh-k8KdMhJ_Q"
      },
      "source": [
        "## Hyperparameter selection"
      ]
    },
    {
      "cell_type": "markdown",
      "metadata": {
        "id": "-jMiAnOthSIn"
      },
      "source": [
        "Reopen the dataset."
      ]
    },
    {
      "cell_type": "code",
      "execution_count": 52,
      "metadata": {
        "colab": {
          "base_uri": "https://localhost:8080/"
        },
        "id": "vrwIysyAhKxI",
        "outputId": "1ae8291b-5366-4025-e06b-72500520bd08"
      },
      "outputs": [
        {
          "output_type": "stream",
          "name": "stdout",
          "text": [
            "(7267, 10) (7267,)\n"
          ]
        }
      ],
      "source": [
        "from sklearn.model_selection import GridSearchCV\n",
        "\n",
        "df = pd.read_csv('web_attacks_balanced.csv')\n",
        "df['Label'] = df['Label'].apply(lambda x: 0 if x == 'BENIGN' else 1)\n",
        "y = df['Label'].values\n",
        "X = df[webattack_features]\n",
        "print(X.shape, y.shape)"
      ]
    },
    {
      "cell_type": "markdown",
      "metadata": {
        "id": "gYUlmUoEDUv9"
      },
      "source": [
        "If necessary, we will work with our own dataset."
      ]
    },
    {
      "cell_type": "code",
      "execution_count": 53,
      "metadata": {
        "id": "XMIh_WduDUv9"
      },
      "outputs": [],
      "source": [
        "#df = pd.read_csv('mix_labelled.csv')\n",
        "#y = df['Label'].values\n",
        "#X = df[webattack_features]\n",
        "#print(X.shape, y.shape)"
      ]
    },
    {
      "cell_type": "markdown",
      "metadata": {
        "id": "PFYYEqnihZnZ"
      },
      "source": [
        "We get the list of RandomForestClassifier parameters."
      ]
    },
    {
      "cell_type": "code",
      "execution_count": 54,
      "metadata": {
        "colab": {
          "base_uri": "https://localhost:8080/"
        },
        "id": "wc_IVcRPhU82",
        "outputId": "2120f94c-c972-420c-d175-6f195eb88553"
      },
      "outputs": [
        {
          "output_type": "execute_result",
          "data": {
            "text/plain": [
              "dict_keys(['bootstrap', 'ccp_alpha', 'class_weight', 'criterion', 'max_depth', 'max_features', 'max_leaf_nodes', 'max_samples', 'min_impurity_decrease', 'min_samples_leaf', 'min_samples_split', 'min_weight_fraction_leaf', 'n_estimators', 'n_jobs', 'oob_score', 'random_state', 'verbose', 'warm_start'])"
            ]
          },
          "metadata": {},
          "execution_count": 54
        }
      ],
      "source": [
        "rfc = RandomForestClassifier(random_state=1)\n",
        "rfc.get_params().keys()"
      ]
    },
    {
      "cell_type": "markdown",
      "metadata": {
        "id": "LQ8VThpnheWD"
      },
      "source": [
        "For search of quasi-optimal value of one parameter we fix the others."
      ]
    },
    {
      "cell_type": "code",
      "execution_count": 55,
      "metadata": {
        "colab": {
          "base_uri": "https://localhost:8080/"
        },
        "id": "4JoxI-axhdD7",
        "outputId": "7d4ed56e-4399-400e-b4bb-6ad4dcaa6401"
      },
      "outputs": [
        {
          "output_type": "stream",
          "name": "stdout",
          "text": [
            "CPU times: user 14.7 s, sys: 59 ms, total: 14.7 s\n",
            "Wall time: 16.2 s\n"
          ]
        }
      ],
      "source": [
        "parameters = {'n_estimators': [10],\n",
        "              'min_samples_leaf': [3],\n",
        "              'max_features': [3], \n",
        "              'max_depth': [1, 2, 3, 4, 5, 6, 7, 8, 9, 10, 11, 13, 15, 17, 20, 30, 50]}\n",
        "scoring = {'f1', 'accuracy'}\n",
        "gcv = GridSearchCV(rfc, parameters, scoring=scoring, refit='f1', cv=10, return_train_score=True)\n",
        "get_ipython().run_line_magic('time', 'gcv.fit(X, y)')\n",
        "results = gcv.cv_results_"
      ]
    },
    {
      "cell_type": "code",
      "execution_count": 56,
      "metadata": {
        "colab": {
          "base_uri": "https://localhost:8080/",
          "height": 647
        },
        "id": "OOS-7FXchh31",
        "outputId": "0e787dbd-f0b5-44ce-e67e-1c858a6162c5"
      },
      "outputs": [
        {
          "output_type": "execute_result",
          "data": {
            "text/plain": [
              "   mean_fit_time  std_fit_time  mean_score_time  std_score_time  \\\n",
              "0       0.031583      0.002077         0.004616        0.000112   \n",
              "1       0.039524      0.002683         0.004729        0.000235   \n",
              "2       0.054447      0.010861         0.006711        0.003371   \n",
              "3       0.052800      0.001486         0.004787        0.000062   \n",
              "4       0.056285      0.004966         0.004844        0.000092   \n",
              "\n",
              "  param_max_depth param_max_features param_min_samples_leaf  \\\n",
              "0               1                  3                      3   \n",
              "1               2                  3                      3   \n",
              "2               3                  3                      3   \n",
              "3               4                  3                      3   \n",
              "4               5                  3                      3   \n",
              "\n",
              "  param_n_estimators                                             params  \\\n",
              "0                 10  {'max_depth': 1, 'max_features': 3, 'min_sampl...   \n",
              "1                 10  {'max_depth': 2, 'max_features': 3, 'min_sampl...   \n",
              "2                 10  {'max_depth': 3, 'max_features': 3, 'min_sampl...   \n",
              "3                 10  {'max_depth': 4, 'max_features': 3, 'min_sampl...   \n",
              "4                 10  {'max_depth': 5, 'max_features': 3, 'min_sampl...   \n",
              "\n",
              "   split0_test_accuracy  ...  split2_train_f1  split3_train_f1  \\\n",
              "0              0.927098  ...         0.862698         0.861118   \n",
              "1              0.940853  ...         0.925687         0.924071   \n",
              "2              0.943604  ...         0.929981         0.928610   \n",
              "3              0.950481  ...         0.942318         0.941462   \n",
              "4              0.955983  ...         0.948800         0.950522   \n",
              "\n",
              "   split4_train_f1  split5_train_f1  split6_train_f1  split7_train_f1  \\\n",
              "0         0.862698         0.862152         0.857211         0.856799   \n",
              "1         0.924818         0.925108         0.925727         0.918068   \n",
              "2         0.929151         0.929943         0.929730         0.921361   \n",
              "3         0.942318         0.941779         0.951643         0.936043   \n",
              "4         0.950522         0.951083         0.952483         0.946323   \n",
              "\n",
              "   split8_train_f1  split9_train_f1  mean_train_f1  std_train_f1  \n",
              "0         0.856250         0.864227       0.860539      0.002835  \n",
              "1         0.918318         0.926934       0.924358      0.003360  \n",
              "2         0.921569         0.929981       0.928219      0.003493  \n",
              "3         0.936009         0.952787       0.942236      0.006011  \n",
              "4         0.946888         0.954158       0.949963      0.002280  \n",
              "\n",
              "[5 rows x 59 columns]"
            ],
            "text/html": [
              "\n",
              "  <div id=\"df-134640c4-802d-4a28-bb66-9d7c06249546\">\n",
              "    <div class=\"colab-df-container\">\n",
              "      <div>\n",
              "<style scoped>\n",
              "    .dataframe tbody tr th:only-of-type {\n",
              "        vertical-align: middle;\n",
              "    }\n",
              "\n",
              "    .dataframe tbody tr th {\n",
              "        vertical-align: top;\n",
              "    }\n",
              "\n",
              "    .dataframe thead th {\n",
              "        text-align: right;\n",
              "    }\n",
              "</style>\n",
              "<table border=\"1\" class=\"dataframe\">\n",
              "  <thead>\n",
              "    <tr style=\"text-align: right;\">\n",
              "      <th></th>\n",
              "      <th>mean_fit_time</th>\n",
              "      <th>std_fit_time</th>\n",
              "      <th>mean_score_time</th>\n",
              "      <th>std_score_time</th>\n",
              "      <th>param_max_depth</th>\n",
              "      <th>param_max_features</th>\n",
              "      <th>param_min_samples_leaf</th>\n",
              "      <th>param_n_estimators</th>\n",
              "      <th>params</th>\n",
              "      <th>split0_test_accuracy</th>\n",
              "      <th>...</th>\n",
              "      <th>split2_train_f1</th>\n",
              "      <th>split3_train_f1</th>\n",
              "      <th>split4_train_f1</th>\n",
              "      <th>split5_train_f1</th>\n",
              "      <th>split6_train_f1</th>\n",
              "      <th>split7_train_f1</th>\n",
              "      <th>split8_train_f1</th>\n",
              "      <th>split9_train_f1</th>\n",
              "      <th>mean_train_f1</th>\n",
              "      <th>std_train_f1</th>\n",
              "    </tr>\n",
              "  </thead>\n",
              "  <tbody>\n",
              "    <tr>\n",
              "      <th>0</th>\n",
              "      <td>0.031583</td>\n",
              "      <td>0.002077</td>\n",
              "      <td>0.004616</td>\n",
              "      <td>0.000112</td>\n",
              "      <td>1</td>\n",
              "      <td>3</td>\n",
              "      <td>3</td>\n",
              "      <td>10</td>\n",
              "      <td>{'max_depth': 1, 'max_features': 3, 'min_sampl...</td>\n",
              "      <td>0.927098</td>\n",
              "      <td>...</td>\n",
              "      <td>0.862698</td>\n",
              "      <td>0.861118</td>\n",
              "      <td>0.862698</td>\n",
              "      <td>0.862152</td>\n",
              "      <td>0.857211</td>\n",
              "      <td>0.856799</td>\n",
              "      <td>0.856250</td>\n",
              "      <td>0.864227</td>\n",
              "      <td>0.860539</td>\n",
              "      <td>0.002835</td>\n",
              "    </tr>\n",
              "    <tr>\n",
              "      <th>1</th>\n",
              "      <td>0.039524</td>\n",
              "      <td>0.002683</td>\n",
              "      <td>0.004729</td>\n",
              "      <td>0.000235</td>\n",
              "      <td>2</td>\n",
              "      <td>3</td>\n",
              "      <td>3</td>\n",
              "      <td>10</td>\n",
              "      <td>{'max_depth': 2, 'max_features': 3, 'min_sampl...</td>\n",
              "      <td>0.940853</td>\n",
              "      <td>...</td>\n",
              "      <td>0.925687</td>\n",
              "      <td>0.924071</td>\n",
              "      <td>0.924818</td>\n",
              "      <td>0.925108</td>\n",
              "      <td>0.925727</td>\n",
              "      <td>0.918068</td>\n",
              "      <td>0.918318</td>\n",
              "      <td>0.926934</td>\n",
              "      <td>0.924358</td>\n",
              "      <td>0.003360</td>\n",
              "    </tr>\n",
              "    <tr>\n",
              "      <th>2</th>\n",
              "      <td>0.054447</td>\n",
              "      <td>0.010861</td>\n",
              "      <td>0.006711</td>\n",
              "      <td>0.003371</td>\n",
              "      <td>3</td>\n",
              "      <td>3</td>\n",
              "      <td>3</td>\n",
              "      <td>10</td>\n",
              "      <td>{'max_depth': 3, 'max_features': 3, 'min_sampl...</td>\n",
              "      <td>0.943604</td>\n",
              "      <td>...</td>\n",
              "      <td>0.929981</td>\n",
              "      <td>0.928610</td>\n",
              "      <td>0.929151</td>\n",
              "      <td>0.929943</td>\n",
              "      <td>0.929730</td>\n",
              "      <td>0.921361</td>\n",
              "      <td>0.921569</td>\n",
              "      <td>0.929981</td>\n",
              "      <td>0.928219</td>\n",
              "      <td>0.003493</td>\n",
              "    </tr>\n",
              "    <tr>\n",
              "      <th>3</th>\n",
              "      <td>0.052800</td>\n",
              "      <td>0.001486</td>\n",
              "      <td>0.004787</td>\n",
              "      <td>0.000062</td>\n",
              "      <td>4</td>\n",
              "      <td>3</td>\n",
              "      <td>3</td>\n",
              "      <td>10</td>\n",
              "      <td>{'max_depth': 4, 'max_features': 3, 'min_sampl...</td>\n",
              "      <td>0.950481</td>\n",
              "      <td>...</td>\n",
              "      <td>0.942318</td>\n",
              "      <td>0.941462</td>\n",
              "      <td>0.942318</td>\n",
              "      <td>0.941779</td>\n",
              "      <td>0.951643</td>\n",
              "      <td>0.936043</td>\n",
              "      <td>0.936009</td>\n",
              "      <td>0.952787</td>\n",
              "      <td>0.942236</td>\n",
              "      <td>0.006011</td>\n",
              "    </tr>\n",
              "    <tr>\n",
              "      <th>4</th>\n",
              "      <td>0.056285</td>\n",
              "      <td>0.004966</td>\n",
              "      <td>0.004844</td>\n",
              "      <td>0.000092</td>\n",
              "      <td>5</td>\n",
              "      <td>3</td>\n",
              "      <td>3</td>\n",
              "      <td>10</td>\n",
              "      <td>{'max_depth': 5, 'max_features': 3, 'min_sampl...</td>\n",
              "      <td>0.955983</td>\n",
              "      <td>...</td>\n",
              "      <td>0.948800</td>\n",
              "      <td>0.950522</td>\n",
              "      <td>0.950522</td>\n",
              "      <td>0.951083</td>\n",
              "      <td>0.952483</td>\n",
              "      <td>0.946323</td>\n",
              "      <td>0.946888</td>\n",
              "      <td>0.954158</td>\n",
              "      <td>0.949963</td>\n",
              "      <td>0.002280</td>\n",
              "    </tr>\n",
              "  </tbody>\n",
              "</table>\n",
              "<p>5 rows × 59 columns</p>\n",
              "</div>\n",
              "      <button class=\"colab-df-convert\" onclick=\"convertToInteractive('df-134640c4-802d-4a28-bb66-9d7c06249546')\"\n",
              "              title=\"Convert this dataframe to an interactive table.\"\n",
              "              style=\"display:none;\">\n",
              "        \n",
              "  <svg xmlns=\"http://www.w3.org/2000/svg\" height=\"24px\"viewBox=\"0 0 24 24\"\n",
              "       width=\"24px\">\n",
              "    <path d=\"M0 0h24v24H0V0z\" fill=\"none\"/>\n",
              "    <path d=\"M18.56 5.44l.94 2.06.94-2.06 2.06-.94-2.06-.94-.94-2.06-.94 2.06-2.06.94zm-11 1L8.5 8.5l.94-2.06 2.06-.94-2.06-.94L8.5 2.5l-.94 2.06-2.06.94zm10 10l.94 2.06.94-2.06 2.06-.94-2.06-.94-.94-2.06-.94 2.06-2.06.94z\"/><path d=\"M17.41 7.96l-1.37-1.37c-.4-.4-.92-.59-1.43-.59-.52 0-1.04.2-1.43.59L10.3 9.45l-7.72 7.72c-.78.78-.78 2.05 0 2.83L4 21.41c.39.39.9.59 1.41.59.51 0 1.02-.2 1.41-.59l7.78-7.78 2.81-2.81c.8-.78.8-2.07 0-2.86zM5.41 20L4 18.59l7.72-7.72 1.47 1.35L5.41 20z\"/>\n",
              "  </svg>\n",
              "      </button>\n",
              "      \n",
              "  <style>\n",
              "    .colab-df-container {\n",
              "      display:flex;\n",
              "      flex-wrap:wrap;\n",
              "      gap: 12px;\n",
              "    }\n",
              "\n",
              "    .colab-df-convert {\n",
              "      background-color: #E8F0FE;\n",
              "      border: none;\n",
              "      border-radius: 50%;\n",
              "      cursor: pointer;\n",
              "      display: none;\n",
              "      fill: #1967D2;\n",
              "      height: 32px;\n",
              "      padding: 0 0 0 0;\n",
              "      width: 32px;\n",
              "    }\n",
              "\n",
              "    .colab-df-convert:hover {\n",
              "      background-color: #E2EBFA;\n",
              "      box-shadow: 0px 1px 2px rgba(60, 64, 67, 0.3), 0px 1px 3px 1px rgba(60, 64, 67, 0.15);\n",
              "      fill: #174EA6;\n",
              "    }\n",
              "\n",
              "    [theme=dark] .colab-df-convert {\n",
              "      background-color: #3B4455;\n",
              "      fill: #D2E3FC;\n",
              "    }\n",
              "\n",
              "    [theme=dark] .colab-df-convert:hover {\n",
              "      background-color: #434B5C;\n",
              "      box-shadow: 0px 1px 3px 1px rgba(0, 0, 0, 0.15);\n",
              "      filter: drop-shadow(0px 1px 2px rgba(0, 0, 0, 0.3));\n",
              "      fill: #FFFFFF;\n",
              "    }\n",
              "  </style>\n",
              "\n",
              "      <script>\n",
              "        const buttonEl =\n",
              "          document.querySelector('#df-134640c4-802d-4a28-bb66-9d7c06249546 button.colab-df-convert');\n",
              "        buttonEl.style.display =\n",
              "          google.colab.kernel.accessAllowed ? 'block' : 'none';\n",
              "\n",
              "        async function convertToInteractive(key) {\n",
              "          const element = document.querySelector('#df-134640c4-802d-4a28-bb66-9d7c06249546');\n",
              "          const dataTable =\n",
              "            await google.colab.kernel.invokeFunction('convertToInteractive',\n",
              "                                                     [key], {});\n",
              "          if (!dataTable) return;\n",
              "\n",
              "          const docLinkHtml = 'Like what you see? Visit the ' +\n",
              "            '<a target=\"_blank\" href=https://colab.research.google.com/notebooks/data_table.ipynb>data table notebook</a>'\n",
              "            + ' to learn more about interactive tables.';\n",
              "          element.innerHTML = '';\n",
              "          dataTable['output_type'] = 'display_data';\n",
              "          await google.colab.output.renderOutput(dataTable, element);\n",
              "          const docLink = document.createElement('div');\n",
              "          docLink.innerHTML = docLinkHtml;\n",
              "          element.appendChild(docLink);\n",
              "        }\n",
              "      </script>\n",
              "    </div>\n",
              "  </div>\n",
              "  "
            ]
          },
          "metadata": {},
          "execution_count": 56
        }
      ],
      "source": [
        "cv_results = pd.DataFrame(gcv.cv_results_)\n",
        "cv_results.head()"
      ]
    },
    {
      "cell_type": "code",
      "execution_count": 57,
      "metadata": {
        "colab": {
          "base_uri": "https://localhost:8080/",
          "height": 352
        },
        "id": "9Y75B_c_hn3b",
        "outputId": "69d9cdab-bd99-42e3-c931-ecae8ada51ff"
      },
      "outputs": [
        {
          "output_type": "display_data",
          "data": {
            "text/plain": [
              "<Figure size 576x360 with 1 Axes>"
            ],
            "image/png": "[encoded data removed]"
          },
          "metadata": {
            "needs_background": "light"
          }
        }
      ],
      "source": [
        "# https://scikit-learn.org/dev/auto_examples/model_selection/plot_multi_metric_evaluation.html\n",
        "plt.figure(figsize=(8, 5))\n",
        "plt.title(\"GridSearchCV results\", fontsize=14)\n",
        "\n",
        "plt.xlabel(\"max_depth\")\n",
        "plt.ylabel(\"f1\")\n",
        "\n",
        "ax = plt.gca()\n",
        "ax.set_xlim(1, 30)\n",
        "ax.set_ylim(0.9, 1)\n",
        "\n",
        "X_axis = np.array(results['param_max_depth'].data, dtype=float)\n",
        "\n",
        "for scorer, color in zip(sorted(scoring), ['g', 'k']):\n",
        "    for sample, style in (('train', '--'), ('test', '-')):\n",
        "        sample_score_mean = results['mean_%s_%s' % (sample, scorer)]\n",
        "        sample_score_std = results['std_%s_%s' % (sample, scorer)]\n",
        "        ax.fill_between(X_axis, sample_score_mean - sample_score_std,\n",
        "                        sample_score_mean + sample_score_std,\n",
        "                        alpha=0.1 if sample == 'test' else 0, color=color)\n",
        "        ax.plot(X_axis, sample_score_mean, style, color=color,\n",
        "                alpha=1 if sample == 'test' else 0.7,\n",
        "                label=\"%s (%s)\" % (scorer, sample))\n",
        "\n",
        "    best_index = np.nonzero(results['rank_test_%s' % scorer] == 1)[0][0]\n",
        "    best_score = results['mean_test_%s' % scorer][best_index]\n",
        "\n",
        "    # Plot a dotted vertical line at the best score for that scorer marked by x\n",
        "    ax.plot([X_axis[best_index], ] * 2, [0, best_score],\n",
        "            linestyle='-.', color=color, marker='x', markeredgewidth=3, ms=8)\n",
        "\n",
        "    # Annotate the best score for that scorer\n",
        "    ax.annotate(\"%0.2f\" % best_score,\n",
        "                (X_axis[best_index] + 0.3, best_score + 0.005))\n",
        "\n",
        "plt.legend(loc=\"best\")\n",
        "plt.grid(False)\n",
        "plt.savefig('GridSearchCV_results.png', dpi=300)\n",
        "plt.show()"
      ]
    },
    {
      "cell_type": "markdown",
      "metadata": {
        "id": "hZtnTrlNk_Uf"
      },
      "source": [
        "### Grid search"
      ]
    },
    {
      "cell_type": "code",
      "execution_count": 58,
      "metadata": {
        "id": "eaeAf6VRhwJq"
      },
      "outputs": [],
      "source": [
        "parameters = {'n_estimators': [30, 50, 70], \n",
        "              'min_samples_leaf': [3, 5, 7],\n",
        "              'max_features': [3, 5, 7, 10], \n",
        "              'max_depth': [10, 17, 23]}\n",
        "\n",
        "# parameters = {'n_estimators': [250]}"
      ]
    },
    {
      "cell_type": "markdown",
      "metadata": {
        "id": "bPVBTt8BDUv-"
      },
      "source": [
        "The operation may take a long time, 3-5 minutes depending on the computer performance."
      ]
    },
    {
      "cell_type": "code",
      "execution_count": 59,
      "metadata": {
        "colab": {
          "base_uri": "https://localhost:8080/"
        },
        "id": "O3ziP5BolEss",
        "outputId": "958cfba6-e985-4e81-a364-539df907286e"
      },
      "outputs": [
        {
          "output_type": "stream",
          "name": "stdout",
          "text": [
            "CPU times: user 2min 7s, sys: 324 ms, total: 2min 7s\n",
            "Wall time: 2min 15s\n"
          ]
        },
        {
          "output_type": "execute_result",
          "data": {
            "text/plain": [
              "GridSearchCV(cv=3, estimator=RandomForestClassifier(random_state=1),\n",
              "             param_grid={'max_depth': [10, 17, 23],\n",
              "                         'max_features': [3, 5, 7, 10],\n",
              "                         'min_samples_leaf': [3, 5, 7],\n",
              "                         'n_estimators': [30, 50, 70]},\n",
              "             refit='f1', return_train_score=True, scoring={'accuracy', 'f1'})"
            ]
          },
          "metadata": {},
          "execution_count": 59
        }
      ],
      "source": [
        "gcv = GridSearchCV(rfc, parameters, scoring=scoring, refit='f1', cv=3, return_train_score=True)\n",
        "get_ipython().run_line_magic('time', 'gcv.fit(X, y)')"
      ]
    },
    {
      "cell_type": "markdown",
      "metadata": {
        "id": "vwi5Ds61mirz"
      },
      "source": [
        "Let's take a look at the results of the parameter selection."
      ]
    },
    {
      "cell_type": "code",
      "execution_count": 60,
      "metadata": {
        "colab": {
          "base_uri": "https://localhost:8080/"
        },
        "id": "vi47XwmNmeHT",
        "outputId": "92990f9c-05d8-4c38-ab91-3d57dd1b0271"
      },
      "outputs": [
        {
          "output_type": "execute_result",
          "data": {
            "text/plain": [
              "RandomForestClassifier(max_depth=23, max_features=3, min_samples_leaf=3,\n",
              "                       n_estimators=30, random_state=1)"
            ]
          },
          "metadata": {},
          "execution_count": 60
        }
      ],
      "source": [
        "gcv.best_estimator_ "
      ]
    },
    {
      "cell_type": "code",
      "execution_count": 61,
      "metadata": {
        "colab": {
          "base_uri": "https://localhost:8080/"
        },
        "id": "PxeUXPHHmk3C",
        "outputId": "94b0301f-3dc8-4927-9c27-aa9b2271ddb6"
      },
      "outputs": [
        {
          "output_type": "execute_result",
          "data": {
            "text/plain": [
              "{'max_depth': 23, 'max_features': 3, 'min_samples_leaf': 3, 'n_estimators': 30}"
            ]
          },
          "metadata": {},
          "execution_count": 61
        }
      ],
      "source": [
        "gcv.best_params_"
      ]
    },
    {
      "cell_type": "code",
      "execution_count": 62,
      "metadata": {
        "colab": {
          "base_uri": "https://localhost:8080/"
        },
        "id": "4VFX3ERUmlvk",
        "outputId": "d77749ff-8ea1-4bc3-b028-3182dd76f012"
      },
      "outputs": [
        {
          "output_type": "execute_result",
          "data": {
            "text/plain": [
              "0.9508903077356368"
            ]
          },
          "metadata": {},
          "execution_count": 62
        }
      ],
      "source": [
        "gcv.best_score_"
      ]
    },
    {
      "cell_type": "markdown",
      "metadata": {
        "id": "Iiskwr3VmoL5"
      },
      "source": [
        "## Final model"
      ]
    },
    {
      "cell_type": "code",
      "execution_count": 63,
      "metadata": {
        "id": "DGQHsE9NDUv-",
        "outputId": "bcda8c59-caae-41de-c471-e9cbe10f83c6",
        "colab": {
          "base_uri": "https://localhost:8080/"
        }
      },
      "outputs": [
        {
          "output_type": "stream",
          "name": "stdout",
          "text": [
            "(5086, 10) (5086,)\n",
            "(2181, 10) (2181,)\n"
          ]
        }
      ],
      "source": [
        "X_train, X_test, y_train, y_test = train_test_split(X, y, test_size=0.3, random_state=42)\n",
        "print(X_train.shape, y_train.shape)\n",
        "print(X_test.shape, y_test.shape)"
      ]
    },
    {
      "cell_type": "code",
      "execution_count": 64,
      "metadata": {
        "colab": {
          "base_uri": "https://localhost:8080/"
        },
        "id": "7F8aWhX3mm8B",
        "outputId": "406e373a-e515-4078-bedc-22287819d6dc"
      },
      "outputs": [
        {
          "output_type": "execute_result",
          "data": {
            "text/plain": [
              "RandomForestClassifier(max_depth=17, max_features=10, min_samples_leaf=3,\n",
              "                       n_estimators=50, oob_score=True, random_state=42)"
            ]
          },
          "metadata": {},
          "execution_count": 64
        }
      ],
      "source": [
        "rfc = RandomForestClassifier(max_depth=17, max_features=10, min_samples_leaf=3, n_estimators=50, random_state=42, oob_score=True)\n",
        "# rfc = RandomForestClassifier(n_estimators=250, random_state=1)\n",
        "rfc.fit(X_train, y_train)"
      ]
    },
    {
      "cell_type": "code",
      "execution_count": 65,
      "metadata": {
        "colab": {
          "base_uri": "https://localhost:8080/"
        },
        "id": "yULIEGsxmtsQ",
        "outputId": "c02ad42c-5044-45bd-bd7a-594f13dd25c2"
      },
      "outputs": [
        {
          "output_type": "stream",
          "name": "stdout",
          "text": [
            "1.\t#2\t0.364\tMax Packet Length\n",
            "2.\t#0\t0.218\tAverage Packet Size\n",
            "3.\t#4\t0.126\tFwd IAT Min\n",
            "4.\t#9\t0.116\tFwd Header Length\n",
            "5.\t#5\t0.052\tTotal Length of Fwd Packets\n",
            "6.\t#7\t0.048\tFlow IAT Mean\n",
            "7.\t#8\t0.042\tFwd IAT Std\n",
            "8.\t#3\t0.016\tFwd Packet Length Mean\n",
            "9.\t#1\t0.014\tFlow Bytes/s\n",
            "10.\t#6\t0.003\tFwd Packet Length Max\n"
          ]
        }
      ],
      "source": [
        "features = X.columns\n",
        "importances = rfc.feature_importances_\n",
        "indices = np.argsort(importances)[::-1]\n",
        "    \n",
        "for index, i in enumerate(indices[:10]):\n",
        "    print('{}.\\t#{}\\t{:.3f}\\t{}'.format(index + 1, i, importances[i], features[i]))"
      ]
    },
    {
      "cell_type": "code",
      "execution_count": 66,
      "metadata": {
        "id": "UXhsiNLjDUv_",
        "outputId": "dd7b87ce-5b8f-4d11-b46c-8121ad1be73c",
        "colab": {
          "base_uri": "https://localhost:8080/"
        }
      },
      "outputs": [
        {
          "output_type": "execute_result",
          "data": {
            "text/plain": [
              "array([[1495,   21],\n",
              "       [  40,  625]])"
            ]
          },
          "metadata": {},
          "execution_count": 66
        }
      ],
      "source": [
        "y_pred = rfc.predict(X_test)\n",
        "confusion_matrix(y_test, y_pred)"
      ]
    },
    {
      "cell_type": "code",
      "execution_count": 67,
      "metadata": {
        "colab": {
          "base_uri": "https://localhost:8080/"
        },
        "id": "WWgbCOjZoIYX",
        "outputId": "16463276-9527-4e3d-a921-255850c16c1e"
      },
      "outputs": [
        {
          "output_type": "stream",
          "name": "stdout",
          "text": [
            "Accuracy = 0.9720311783585511\n",
            "Precision = 0.9674922600619195\n",
            "Recall = 0.9398496240601504\n",
            "F1 = 0.9534706331045003\n"
          ]
        }
      ],
      "source": [
        "import sklearn.metrics as metrics\n",
        "accuracy = metrics.accuracy_score(y_test, y_pred)\n",
        "precision = metrics.precision_score(y_test, y_pred)\n",
        "recall = metrics.recall_score(y_test, y_pred)\n",
        "f1 = metrics.f1_score(y_test, y_pred)\n",
        "print('Accuracy =', accuracy)\n",
        "print('Precision =', precision)\n",
        "print('Recall =', recall)\n",
        "print('F1 =', f1)"
      ]
    },
    {
      "cell_type": "markdown",
      "metadata": {
        "id": "5PElFLh5oYzU"
      },
      "source": [
        "## Model saving"
      ]
    },
    {
      "cell_type": "code",
      "execution_count": 68,
      "metadata": {
        "id": "QjZyFNFIoMFK"
      },
      "outputs": [],
      "source": [
        "import pickle\n",
        "with open('webattack_detection_rf_model.pkl', 'wb') as f:\n",
        "    pickle.dump(rfc, f)"
      ]
    },
    {
      "cell_type": "markdown",
      "metadata": {
        "id": "pnHSPBrDodIs"
      },
      "source": [
        "## Model approbation"
      ]
    },
    {
      "cell_type": "markdown",
      "metadata": {
        "id": "98uX2hrvofRR"
      },
      "source": [
        "Open the previously saved model."
      ]
    },
    {
      "cell_type": "code",
      "execution_count": 69,
      "metadata": {
        "colab": {
          "base_uri": "https://localhost:8080/"
        },
        "id": "hxBtpLABob_z",
        "outputId": "d8a081ee-d97e-4669-fd2b-d3af3ed7bb66"
      },
      "outputs": [
        {
          "output_type": "execute_result",
          "data": {
            "text/plain": [
              "RandomForestClassifier(max_depth=17, max_features=10, min_samples_leaf=3,\n",
              "                       n_estimators=50, oob_score=True, random_state=42)"
            ]
          },
          "metadata": {},
          "execution_count": 69
        }
      ],
      "source": [
        "with open('webattack_detection_rf_model.pkl', 'rb') as f:\n",
        "    rfc = pickle.load(f)\n",
        "rfc"
      ]
    },
    {
      "cell_type": "markdown",
      "metadata": {
        "id": "znNcDQd-oh5G"
      },
      "source": [
        "Reopen the dataset."
      ]
    },
    {
      "cell_type": "code",
      "execution_count": 70,
      "metadata": {
        "colab": {
          "base_uri": "https://localhost:8080/"
        },
        "id": "z_vhT5fcoguX",
        "outputId": "0b187970-6f33-4efc-fdb8-a5d058044d19"
      },
      "outputs": [
        {
          "output_type": "stream",
          "name": "stdout",
          "text": [
            "(7267, 10) (7267,)\n"
          ]
        }
      ],
      "source": [
        "df = pd.read_csv('web_attacks_balanced.csv')\n",
        "df['Label'] = df['Label'].apply(lambda x: 0 if x == 'BENIGN' else 1)\n",
        "y_test = df['Label'].values\n",
        "X_test = df[webattack_features]\n",
        "print(X_test.shape, y_test.shape)"
      ]
    },
    {
      "cell_type": "markdown",
      "metadata": {
        "id": "klnczmM3DUv_"
      },
      "source": [
        "If necessary, we will work with our own dataset."
      ]
    },
    {
      "cell_type": "code",
      "execution_count": 71,
      "metadata": {
        "id": "tG8yjMFnDUv_"
      },
      "outputs": [],
      "source": [
        "#df = pd.read_csv('mix_labelled.csv')\n",
        "#y_test = df['Label'].values\n",
        "#X_test = df[webattack_features]\n",
        "#print(X_test.shape, y_test.shape)"
      ]
    },
    {
      "cell_type": "code",
      "execution_count": 72,
      "metadata": {
        "colab": {
          "base_uri": "https://localhost:8080/",
          "height": 0
        },
        "id": "wmcv42wHoltz",
        "outputId": "57efee38-6943-4ddd-ac10-6a4926dc5dcc"
      },
      "outputs": [
        {
          "output_type": "execute_result",
          "data": {
            "text/plain": [
              "   Average Packet Size  Flow Bytes/s  Max Packet Length  \\\n",
              "0                80.00   1633136.095               94.0   \n",
              "1                80.00   1408163.265               94.0   \n",
              "2                48.00   1038961.039               48.0   \n",
              "3                94.25   2000000.000              112.0   \n",
              "4              1248.50   3634674.923             1472.0   \n",
              "\n",
              "   Fwd Packet Length Mean  Fwd IAT Min  Total Length of Fwd Packets  \\\n",
              "0                    44.0          4.0                         88.0   \n",
              "1                    44.0         49.0                         88.0   \n",
              "2                    32.0          3.0                         64.0   \n",
              "3                    51.0          3.0                        102.0   \n",
              "4                  1472.0         41.0                       2944.0   \n",
              "\n",
              "   Fwd Packet Length Max  Flow IAT Mean  Fwd IAT Std  Fwd Header Length  \n",
              "0                   44.0      56.333333          0.0               64.0  \n",
              "1                   44.0      65.333333          0.0               64.0  \n",
              "2                   32.0      51.333333          0.0               64.0  \n",
              "3                   51.0      54.333333          0.0               64.0  \n",
              "4                 1472.0     323.000000          0.0               64.0  "
            ],
            "text/html": [
              "\n",
              "  <div id=\"df-feae7ae7-622a-4c23-82bb-d04d86ff9573\">\n",
              "    <div class=\"colab-df-container\">\n",
              "      <div>\n",
              "<style scoped>\n",
              "    .dataframe tbody tr th:only-of-type {\n",
              "        vertical-align: middle;\n",
              "    }\n",
              "\n",
              "    .dataframe tbody tr th {\n",
              "        vertical-align: top;\n",
              "    }\n",
              "\n",
              "    .dataframe thead th {\n",
              "        text-align: right;\n",
              "    }\n",
              "</style>\n",
              "<table border=\"1\" class=\"dataframe\">\n",
              "  <thead>\n",
              "    <tr style=\"text-align: right;\">\n",
              "      <th></th>\n",
              "      <th>Average Packet Size</th>\n",
              "      <th>Flow Bytes/s</th>\n",
              "      <th>Max Packet Length</th>\n",
              "      <th>Fwd Packet Length Mean</th>\n",
              "      <th>Fwd IAT Min</th>\n",
              "      <th>Total Length of Fwd Packets</th>\n",
              "      <th>Fwd Packet Length Max</th>\n",
              "      <th>Flow IAT Mean</th>\n",
              "      <th>Fwd IAT Std</th>\n",
              "      <th>Fwd Header Length</th>\n",
              "    </tr>\n",
              "  </thead>\n",
              "  <tbody>\n",
              "    <tr>\n",
              "      <th>0</th>\n",
              "      <td>80.00</td>\n",
              "      <td>1633136.095</td>\n",
              "      <td>94.0</td>\n",
              "      <td>44.0</td>\n",
              "      <td>4.0</td>\n",
              "      <td>88.0</td>\n",
              "      <td>44.0</td>\n",
              "      <td>56.333333</td>\n",
              "      <td>0.0</td>\n",
              "      <td>64.0</td>\n",
              "    </tr>\n",
              "    <tr>\n",
              "      <th>1</th>\n",
              "      <td>80.00</td>\n",
              "      <td>1408163.265</td>\n",
              "      <td>94.0</td>\n",
              "      <td>44.0</td>\n",
              "      <td>49.0</td>\n",
              "      <td>88.0</td>\n",
              "      <td>44.0</td>\n",
              "      <td>65.333333</td>\n",
              "      <td>0.0</td>\n",
              "      <td>64.0</td>\n",
              "    </tr>\n",
              "    <tr>\n",
              "      <th>2</th>\n",
              "      <td>48.00</td>\n",
              "      <td>1038961.039</td>\n",
              "      <td>48.0</td>\n",
              "      <td>32.0</td>\n",
              "      <td>3.0</td>\n",
              "      <td>64.0</td>\n",
              "      <td>32.0</td>\n",
              "      <td>51.333333</td>\n",
              "      <td>0.0</td>\n",
              "      <td>64.0</td>\n",
              "    </tr>\n",
              "    <tr>\n",
              "      <th>3</th>\n",
              "      <td>94.25</td>\n",
              "      <td>2000000.000</td>\n",
              "      <td>112.0</td>\n",
              "      <td>51.0</td>\n",
              "      <td>3.0</td>\n",
              "      <td>102.0</td>\n",
              "      <td>51.0</td>\n",
              "      <td>54.333333</td>\n",
              "      <td>0.0</td>\n",
              "      <td>64.0</td>\n",
              "    </tr>\n",
              "    <tr>\n",
              "      <th>4</th>\n",
              "      <td>1248.50</td>\n",
              "      <td>3634674.923</td>\n",
              "      <td>1472.0</td>\n",
              "      <td>1472.0</td>\n",
              "      <td>41.0</td>\n",
              "      <td>2944.0</td>\n",
              "      <td>1472.0</td>\n",
              "      <td>323.000000</td>\n",
              "      <td>0.0</td>\n",
              "      <td>64.0</td>\n",
              "    </tr>\n",
              "  </tbody>\n",
              "</table>\n",
              "</div>\n",
              "      <button class=\"colab-df-convert\" onclick=\"convertToInteractive('df-feae7ae7-622a-4c23-82bb-d04d86ff9573')\"\n",
              "              title=\"Convert this dataframe to an interactive table.\"\n",
              "              style=\"display:none;\">\n",
              "        \n",
              "  <svg xmlns=\"http://www.w3.org/2000/svg\" height=\"24px\"viewBox=\"0 0 24 24\"\n",
              "       width=\"24px\">\n",
              "    <path d=\"M0 0h24v24H0V0z\" fill=\"none\"/>\n",
              "    <path d=\"M18.56 5.44l.94 2.06.94-2.06 2.06-.94-2.06-.94-.94-2.06-.94 2.06-2.06.94zm-11 1L8.5 8.5l.94-2.06 2.06-.94-2.06-.94L8.5 2.5l-.94 2.06-2.06.94zm10 10l.94 2.06.94-2.06 2.06-.94-2.06-.94-.94-2.06-.94 2.06-2.06.94z\"/><path d=\"M17.41 7.96l-1.37-1.37c-.4-.4-.92-.59-1.43-.59-.52 0-1.04.2-1.43.59L10.3 9.45l-7.72 7.72c-.78.78-.78 2.05 0 2.83L4 21.41c.39.39.9.59 1.41.59.51 0 1.02-.2 1.41-.59l7.78-7.78 2.81-2.81c.8-.78.8-2.07 0-2.86zM5.41 20L4 18.59l7.72-7.72 1.47 1.35L5.41 20z\"/>\n",
              "  </svg>\n",
              "      </button>\n",
              "      \n",
              "  <style>\n",
              "    .colab-df-container {\n",
              "      display:flex;\n",
              "      flex-wrap:wrap;\n",
              "      gap: 12px;\n",
              "    }\n",
              "\n",
              "    .colab-df-convert {\n",
              "      background-color: #E8F0FE;\n",
              "      border: none;\n",
              "      border-radius: 50%;\n",
              "      cursor: pointer;\n",
              "      display: none;\n",
              "      fill: #1967D2;\n",
              "      height: 32px;\n",
              "      padding: 0 0 0 0;\n",
              "      width: 32px;\n",
              "    }\n",
              "\n",
              "    .colab-df-convert:hover {\n",
              "      background-color: #E2EBFA;\n",
              "      box-shadow: 0px 1px 2px rgba(60, 64, 67, 0.3), 0px 1px 3px 1px rgba(60, 64, 67, 0.15);\n",
              "      fill: #174EA6;\n",
              "    }\n",
              "\n",
              "    [theme=dark] .colab-df-convert {\n",
              "      background-color: #3B4455;\n",
              "      fill: #D2E3FC;\n",
              "    }\n",
              "\n",
              "    [theme=dark] .colab-df-convert:hover {\n",
              "      background-color: #434B5C;\n",
              "      box-shadow: 0px 1px 3px 1px rgba(0, 0, 0, 0.15);\n",
              "      filter: drop-shadow(0px 1px 2px rgba(0, 0, 0, 0.3));\n",
              "      fill: #FFFFFF;\n",
              "    }\n",
              "  </style>\n",
              "\n",
              "      <script>\n",
              "        const buttonEl =\n",
              "          document.querySelector('#df-feae7ae7-622a-4c23-82bb-d04d86ff9573 button.colab-df-convert');\n",
              "        buttonEl.style.display =\n",
              "          google.colab.kernel.accessAllowed ? 'block' : 'none';\n",
              "\n",
              "        async function convertToInteractive(key) {\n",
              "          const element = document.querySelector('#df-feae7ae7-622a-4c23-82bb-d04d86ff9573');\n",
              "          const dataTable =\n",
              "            await google.colab.kernel.invokeFunction('convertToInteractive',\n",
              "                                                     [key], {});\n",
              "          if (!dataTable) return;\n",
              "\n",
              "          const docLinkHtml = 'Like what you see? Visit the ' +\n",
              "            '<a target=\"_blank\" href=https://colab.research.google.com/notebooks/data_table.ipynb>data table notebook</a>'\n",
              "            + ' to learn more about interactive tables.';\n",
              "          element.innerHTML = '';\n",
              "          dataTable['output_type'] = 'display_data';\n",
              "          await google.colab.output.renderOutput(dataTable, element);\n",
              "          const docLink = document.createElement('div');\n",
              "          docLink.innerHTML = docLinkHtml;\n",
              "          element.appendChild(docLink);\n",
              "        }\n",
              "      </script>\n",
              "    </div>\n",
              "  </div>\n",
              "  "
            ]
          },
          "metadata": {},
          "execution_count": 72
        }
      ],
      "source": [
        "X_test.head()"
      ]
    },
    {
      "cell_type": "code",
      "execution_count": 73,
      "metadata": {
        "colab": {
          "base_uri": "https://localhost:8080/"
        },
        "id": "-lSUUhseopZz",
        "outputId": "804bd375-2a19-42b2-b4a4-03eeb7f06ccf"
      },
      "outputs": [
        {
          "output_type": "stream",
          "name": "stdout",
          "text": [
            "Total operation time: 0.03949737548828125 seconds\n",
            "Benign records detected (0), attacks detected (1):\n"
          ]
        },
        {
          "output_type": "execute_result",
          "data": {
            "text/plain": [
              "{0: 5109, 1: 2158}"
            ]
          },
          "metadata": {},
          "execution_count": 73
        }
      ],
      "source": [
        "import time\n",
        "seconds = time.time()\n",
        "y_pred = rfc.predict(X_test)\n",
        "print(\"Total operation time:\", time.time() - seconds, \"seconds\")\n",
        "\n",
        "print(\"Benign records detected (0), attacks detected (1):\")\n",
        "unique, counts = np.unique(y_pred, return_counts=True)\n",
        "dict(zip(unique, counts))"
      ]
    },
    {
      "cell_type": "markdown",
      "metadata": {
        "id": "J2czidjro0at"
      },
      "source": [
        "Confusion matrix:\n",
        "\n",
        "      0  1 - predicted value (Wikipedia uses different convention for axes)\n",
        "    0 TN FP\n",
        "    1 FN TP"
      ]
    },
    {
      "cell_type": "code",
      "execution_count": 74,
      "metadata": {
        "colab": {
          "base_uri": "https://localhost:8080/"
        },
        "id": "-g03Us5potkl",
        "outputId": "87a06f41-500d-4131-c4d4-559cba0c5dd8"
      },
      "outputs": [
        {
          "output_type": "execute_result",
          "data": {
            "text/plain": [
              "array([[5033,   54],\n",
              "       [  76, 2104]])"
            ]
          },
          "metadata": {},
          "execution_count": 74
        }
      ],
      "source": [
        "confusion_matrix(y_test, y_pred)"
      ]
    },
    {
      "cell_type": "code",
      "execution_count": 75,
      "metadata": {
        "colab": {
          "base_uri": "https://localhost:8080/"
        },
        "id": "qBDPbUU_o6Pi",
        "outputId": "22cd0ebb-9f6d-494d-e544-05d674624757"
      },
      "outputs": [
        {
          "output_type": "stream",
          "name": "stdout",
          "text": [
            "Accuracy = 0.9821109123434705\n",
            "Precision = 0.9749768303985171\n",
            "Recall = 0.9651376146788991\n",
            "F1 = 0.9700322729368374\n"
          ]
        }
      ],
      "source": [
        "accuracy = metrics.accuracy_score(y_test, y_pred)\n",
        "precision = metrics.precision_score(y_test, y_pred)\n",
        "recall = metrics.recall_score(y_test, y_pred)\n",
        "f1 = metrics.f1_score(y_test, y_pred)\n",
        "print('Accuracy =', accuracy)\n",
        "print('Precision =', precision)\n",
        "print('Recall =', recall)\n",
        "print('F1 =', f1)"
      ]
    },
    {
      "cell_type": "markdown",
      "metadata": {
        "id": "u4OU8WyZpJdD"
      },
      "source": [
        "Manual calculation of the confusion matrix:\n",
        "    \n",
        "    array([[5075,   12],\n",
        "           [   1, 2179]], dtype=int64)\n",
        "  \n",
        "      0  1 - predicted value (Wikipedia uses different convention for axes)\n",
        "    0 TN FP\n",
        "    1 FN TP\n",
        "\n",
        "    Точность\n",
        "    Precision = TP / (TP + FP) = 2179 / (2179 + 12) = 0.9945230488361478\n",
        "\n",
        "    Полнота\n",
        "    Recall = TP / (TP + FN) = 2179 / (2179 + 1) = 0.9995412844036697\n",
        "\n",
        "    F-мера, параметр = 1, гармоническое среднее точности и полноты, множитель = 2\n",
        "    F1 = 2 * (precision * recall) / (precision + recall) = 0.9970258522077328\n",
        "\n",
        "    Доля правильных ответов\n",
        "    Accuracy = TP + TN / (TP + TN + FP + FN) = (2179 + 5075) / 7267 = 0.998211091234347"
      ]
    },
    {
      "cell_type": "code",
      "execution_count": 76,
      "metadata": {
        "id": "RyyORmRrpDTz"
      },
      "outputs": [],
      "source": [
        "predict = pd.DataFrame({'Predict': rfc.predict(X_test)})\n",
        "label = pd.DataFrame({'Label': y_test})\n",
        "result = X_test.join(label).join(predict)"
      ]
    },
    {
      "cell_type": "code",
      "execution_count": 77,
      "metadata": {
        "colab": {
          "base_uri": "https://localhost:8080/",
          "height": 0
        },
        "id": "Vgpf2SVmpnyp",
        "outputId": "d71a7d05-8527-4f16-a5b6-6c4f092926ca"
      },
      "outputs": [
        {
          "output_type": "execute_result",
          "data": {
            "text/plain": [
              "      Average Packet Size  Flow Bytes/s  Max Packet Length  \\\n",
              "239             661.06383    263.882412             5472.0   \n",
              "278               0.00000      0.000000                0.0   \n",
              "408               0.00000      0.000000                0.0   \n",
              "444               0.00000      0.000000                0.0   \n",
              "485               0.00000      0.000000                0.0   \n",
              "...                   ...           ...                ...   \n",
              "6692              0.00000      0.000000                0.0   \n",
              "6924              0.00000      0.000000                0.0   \n",
              "6959              0.00000      0.000000                0.0   \n",
              "6966              0.00000      0.000000                0.0   \n",
              "7133              0.00000      0.000000                0.0   \n",
              "\n",
              "      Fwd Packet Length Mean  Fwd IAT Min  Total Length of Fwd Packets  \\\n",
              "239              1092.304348          3.0                      25123.0   \n",
              "278                 0.000000          0.0                          0.0   \n",
              "408                 0.000000          0.0                          0.0   \n",
              "444                 0.000000          0.0                          0.0   \n",
              "485                 0.000000          0.0                          0.0   \n",
              "...                      ...          ...                          ...   \n",
              "6692                0.000000          0.0                          0.0   \n",
              "6924                0.000000          0.0                          0.0   \n",
              "6959                0.000000          1.0                          0.0   \n",
              "6966                0.000000          0.0                          0.0   \n",
              "7133                0.000000          0.0                          0.0   \n",
              "\n",
              "      Fwd Packet Length Max  Flow IAT Mean   Fwd IAT Std  Fwd Header Length  \\\n",
              "239                  5472.0    2559605.152  1.720000e+07              744.0   \n",
              "278                     0.0         83.000  0.000000e+00               32.0   \n",
              "408                     0.0         81.000  0.000000e+00               32.0   \n",
              "444                     0.0         51.000  0.000000e+00               32.0   \n",
              "485                     0.0         94.000  0.000000e+00               32.0   \n",
              "...                     ...            ...           ...                ...   \n",
              "6692                    0.0         76.000  0.000000e+00               32.0   \n",
              "6924                    0.0         76.000  0.000000e+00               32.0   \n",
              "6959                    0.0         15.500  1.154701e+00              128.0   \n",
              "6966                    0.0         76.000  0.000000e+00               32.0   \n",
              "7133                    0.0         51.000  0.000000e+00               32.0   \n",
              "\n",
              "      Label  Predict  \n",
              "239       0        1  \n",
              "278       0        1  \n",
              "408       1        1  \n",
              "444       0        1  \n",
              "485       0        1  \n",
              "...     ...      ...  \n",
              "6692      0        1  \n",
              "6924      0        1  \n",
              "6959      0        1  \n",
              "6966      0        1  \n",
              "7133      0        1  \n",
              "\n",
              "[2158 rows x 12 columns]"
            ],
            "text/html": [
              "\n",
              "  <div id=\"df-1fb7f6e9-fd94-4324-aae5-663e7f08d754\">\n",
              "    <div class=\"colab-df-container\">\n",
              "      <div>\n",
              "<style scoped>\n",
              "    .dataframe tbody tr th:only-of-type {\n",
              "        vertical-align: middle;\n",
              "    }\n",
              "\n",
              "    .dataframe tbody tr th {\n",
              "        vertical-align: top;\n",
              "    }\n",
              "\n",
              "    .dataframe thead th {\n",
              "        text-align: right;\n",
              "    }\n",
              "</style>\n",
              "<table border=\"1\" class=\"dataframe\">\n",
              "  <thead>\n",
              "    <tr style=\"text-align: right;\">\n",
              "      <th></th>\n",
              "      <th>Average Packet Size</th>\n",
              "      <th>Flow Bytes/s</th>\n",
              "      <th>Max Packet Length</th>\n",
              "      <th>Fwd Packet Length Mean</th>\n",
              "      <th>Fwd IAT Min</th>\n",
              "      <th>Total Length of Fwd Packets</th>\n",
              "      <th>Fwd Packet Length Max</th>\n",
              "      <th>Flow IAT Mean</th>\n",
              "      <th>Fwd IAT Std</th>\n",
              "      <th>Fwd Header Length</th>\n",
              "      <th>Label</th>\n",
              "      <th>Predict</th>\n",
              "    </tr>\n",
              "  </thead>\n",
              "  <tbody>\n",
              "    <tr>\n",
              "      <th>239</th>\n",
              "      <td>661.06383</td>\n",
              "      <td>263.882412</td>\n",
              "      <td>5472.0</td>\n",
              "      <td>1092.304348</td>\n",
              "      <td>3.0</td>\n",
              "      <td>25123.0</td>\n",
              "      <td>5472.0</td>\n",
              "      <td>2559605.152</td>\n",
              "      <td>1.720000e+07</td>\n",
              "      <td>744.0</td>\n",
              "      <td>0</td>\n",
              "      <td>1</td>\n",
              "    </tr>\n",
              "    <tr>\n",
              "      <th>278</th>\n",
              "      <td>0.00000</td>\n",
              "      <td>0.000000</td>\n",
              "      <td>0.0</td>\n",
              "      <td>0.000000</td>\n",
              "      <td>0.0</td>\n",
              "      <td>0.0</td>\n",
              "      <td>0.0</td>\n",
              "      <td>83.000</td>\n",
              "      <td>0.000000e+00</td>\n",
              "      <td>32.0</td>\n",
              "      <td>0</td>\n",
              "      <td>1</td>\n",
              "    </tr>\n",
              "    <tr>\n",
              "      <th>408</th>\n",
              "      <td>0.00000</td>\n",
              "      <td>0.000000</td>\n",
              "      <td>0.0</td>\n",
              "      <td>0.000000</td>\n",
              "      <td>0.0</td>\n",
              "      <td>0.0</td>\n",
              "      <td>0.0</td>\n",
              "      <td>81.000</td>\n",
              "      <td>0.000000e+00</td>\n",
              "      <td>32.0</td>\n",
              "      <td>1</td>\n",
              "      <td>1</td>\n",
              "    </tr>\n",
              "    <tr>\n",
              "      <th>444</th>\n",
              "      <td>0.00000</td>\n",
              "      <td>0.000000</td>\n",
              "      <td>0.0</td>\n",
              "      <td>0.000000</td>\n",
              "      <td>0.0</td>\n",
              "      <td>0.0</td>\n",
              "      <td>0.0</td>\n",
              "      <td>51.000</td>\n",
              "      <td>0.000000e+00</td>\n",
              "      <td>32.0</td>\n",
              "      <td>0</td>\n",
              "      <td>1</td>\n",
              "    </tr>\n",
              "    <tr>\n",
              "      <th>485</th>\n",
              "      <td>0.00000</td>\n",
              "      <td>0.000000</td>\n",
              "      <td>0.0</td>\n",
              "      <td>0.000000</td>\n",
              "      <td>0.0</td>\n",
              "      <td>0.0</td>\n",
              "      <td>0.0</td>\n",
              "      <td>94.000</td>\n",
              "      <td>0.000000e+00</td>\n",
              "      <td>32.0</td>\n",
              "      <td>0</td>\n",
              "      <td>1</td>\n",
              "    </tr>\n",
              "    <tr>\n",
              "      <th>...</th>\n",
              "      <td>...</td>\n",
              "      <td>...</td>\n",
              "      <td>...</td>\n",
              "      <td>...</td>\n",
              "      <td>...</td>\n",
              "      <td>...</td>\n",
              "      <td>...</td>\n",
              "      <td>...</td>\n",
              "      <td>...</td>\n",
              "      <td>...</td>\n",
              "      <td>...</td>\n",
              "      <td>...</td>\n",
              "    </tr>\n",
              "    <tr>\n",
              "      <th>6692</th>\n",
              "      <td>0.00000</td>\n",
              "      <td>0.000000</td>\n",
              "      <td>0.0</td>\n",
              "      <td>0.000000</td>\n",
              "      <td>0.0</td>\n",
              "      <td>0.0</td>\n",
              "      <td>0.0</td>\n",
              "      <td>76.000</td>\n",
              "      <td>0.000000e+00</td>\n",
              "      <td>32.0</td>\n",
              "      <td>0</td>\n",
              "      <td>1</td>\n",
              "    </tr>\n",
              "    <tr>\n",
              "      <th>6924</th>\n",
              "      <td>0.00000</td>\n",
              "      <td>0.000000</td>\n",
              "      <td>0.0</td>\n",
              "      <td>0.000000</td>\n",
              "      <td>0.0</td>\n",
              "      <td>0.0</td>\n",
              "      <td>0.0</td>\n",
              "      <td>76.000</td>\n",
              "      <td>0.000000e+00</td>\n",
              "      <td>32.0</td>\n",
              "      <td>0</td>\n",
              "      <td>1</td>\n",
              "    </tr>\n",
              "    <tr>\n",
              "      <th>6959</th>\n",
              "      <td>0.00000</td>\n",
              "      <td>0.000000</td>\n",
              "      <td>0.0</td>\n",
              "      <td>0.000000</td>\n",
              "      <td>1.0</td>\n",
              "      <td>0.0</td>\n",
              "      <td>0.0</td>\n",
              "      <td>15.500</td>\n",
              "      <td>1.154701e+00</td>\n",
              "      <td>128.0</td>\n",
              "      <td>0</td>\n",
              "      <td>1</td>\n",
              "    </tr>\n",
              "    <tr>\n",
              "      <th>6966</th>\n",
              "      <td>0.00000</td>\n",
              "      <td>0.000000</td>\n",
              "      <td>0.0</td>\n",
              "      <td>0.000000</td>\n",
              "      <td>0.0</td>\n",
              "      <td>0.0</td>\n",
              "      <td>0.0</td>\n",
              "      <td>76.000</td>\n",
              "      <td>0.000000e+00</td>\n",
              "      <td>32.0</td>\n",
              "      <td>0</td>\n",
              "      <td>1</td>\n",
              "    </tr>\n",
              "    <tr>\n",
              "      <th>7133</th>\n",
              "      <td>0.00000</td>\n",
              "      <td>0.000000</td>\n",
              "      <td>0.0</td>\n",
              "      <td>0.000000</td>\n",
              "      <td>0.0</td>\n",
              "      <td>0.0</td>\n",
              "      <td>0.0</td>\n",
              "      <td>51.000</td>\n",
              "      <td>0.000000e+00</td>\n",
              "      <td>32.0</td>\n",
              "      <td>0</td>\n",
              "      <td>1</td>\n",
              "    </tr>\n",
              "  </tbody>\n",
              "</table>\n",
              "<p>2158 rows × 12 columns</p>\n",
              "</div>\n",
              "      <button class=\"colab-df-convert\" onclick=\"convertToInteractive('df-1fb7f6e9-fd94-4324-aae5-663e7f08d754')\"\n",
              "              title=\"Convert this dataframe to an interactive table.\"\n",
              "              style=\"display:none;\">\n",
              "        \n",
              "  <svg xmlns=\"http://www.w3.org/2000/svg\" height=\"24px\"viewBox=\"0 0 24 24\"\n",
              "       width=\"24px\">\n",
              "    <path d=\"M0 0h24v24H0V0z\" fill=\"none\"/>\n",
              "    <path d=\"M18.56 5.44l.94 2.06.94-2.06 2.06-.94-2.06-.94-.94-2.06-.94 2.06-2.06.94zm-11 1L8.5 8.5l.94-2.06 2.06-.94-2.06-.94L8.5 2.5l-.94 2.06-2.06.94zm10 10l.94 2.06.94-2.06 2.06-.94-2.06-.94-.94-2.06-.94 2.06-2.06.94z\"/><path d=\"M17.41 7.96l-1.37-1.37c-.4-.4-.92-.59-1.43-.59-.52 0-1.04.2-1.43.59L10.3 9.45l-7.72 7.72c-.78.78-.78 2.05 0 2.83L4 21.41c.39.39.9.59 1.41.59.51 0 1.02-.2 1.41-.59l7.78-7.78 2.81-2.81c.8-.78.8-2.07 0-2.86zM5.41 20L4 18.59l7.72-7.72 1.47 1.35L5.41 20z\"/>\n",
              "  </svg>\n",
              "      </button>\n",
              "      \n",
              "  <style>\n",
              "    .colab-df-container {\n",
              "      display:flex;\n",
              "      flex-wrap:wrap;\n",
              "      gap: 12px;\n",
              "    }\n",
              "\n",
              "    .colab-df-convert {\n",
              "      background-color: #E8F0FE;\n",
              "      border: none;\n",
              "      border-radius: 50%;\n",
              "      cursor: pointer;\n",
              "      display: none;\n",
              "      fill: #1967D2;\n",
              "      height: 32px;\n",
              "      padding: 0 0 0 0;\n",
              "      width: 32px;\n",
              "    }\n",
              "\n",
              "    .colab-df-convert:hover {\n",
              "      background-color: #E2EBFA;\n",
              "      box-shadow: 0px 1px 2px rgba(60, 64, 67, 0.3), 0px 1px 3px 1px rgba(60, 64, 67, 0.15);\n",
              "      fill: #174EA6;\n",
              "    }\n",
              "\n",
              "    [theme=dark] .colab-df-convert {\n",
              "      background-color: #3B4455;\n",
              "      fill: #D2E3FC;\n",
              "    }\n",
              "\n",
              "    [theme=dark] .colab-df-convert:hover {\n",
              "      background-color: #434B5C;\n",
              "      box-shadow: 0px 1px 3px 1px rgba(0, 0, 0, 0.15);\n",
              "      filter: drop-shadow(0px 1px 2px rgba(0, 0, 0, 0.3));\n",
              "      fill: #FFFFFF;\n",
              "    }\n",
              "  </style>\n",
              "\n",
              "      <script>\n",
              "        const buttonEl =\n",
              "          document.querySelector('#df-1fb7f6e9-fd94-4324-aae5-663e7f08d754 button.colab-df-convert');\n",
              "        buttonEl.style.display =\n",
              "          google.colab.kernel.accessAllowed ? 'block' : 'none';\n",
              "\n",
              "        async function convertToInteractive(key) {\n",
              "          const element = document.querySelector('#df-1fb7f6e9-fd94-4324-aae5-663e7f08d754');\n",
              "          const dataTable =\n",
              "            await google.colab.kernel.invokeFunction('convertToInteractive',\n",
              "                                                     [key], {});\n",
              "          if (!dataTable) return;\n",
              "\n",
              "          const docLinkHtml = 'Like what you see? Visit the ' +\n",
              "            '<a target=\"_blank\" href=https://colab.research.google.com/notebooks/data_table.ipynb>data table notebook</a>'\n",
              "            + ' to learn more about interactive tables.';\n",
              "          element.innerHTML = '';\n",
              "          dataTable['output_type'] = 'display_data';\n",
              "          await google.colab.output.renderOutput(dataTable, element);\n",
              "          const docLink = document.createElement('div');\n",
              "          docLink.innerHTML = docLinkHtml;\n",
              "          element.appendChild(docLink);\n",
              "        }\n",
              "      </script>\n",
              "    </div>\n",
              "  </div>\n",
              "  "
            ]
          },
          "metadata": {},
          "execution_count": 77
        }
      ],
      "source": [
        "result[result['Predict'] == 1]"
      ]
    },
    {
      "cell_type": "code",
      "execution_count": 78,
      "metadata": {
        "colab": {
          "base_uri": "https://localhost:8080/",
          "height": 0
        },
        "id": "yD7m3P1lppwu",
        "outputId": "94253a79-8707-48b6-cab8-352b02719222"
      },
      "outputs": [
        {
          "output_type": "execute_result",
          "data": {
            "text/plain": [
              "     Average Packet Size  Flow Bytes/s  Max Packet Length  \\\n",
              "410           199.916667  4.551212e+02             1066.0   \n",
              "411            70.833333  6.245198e+03              105.0   \n",
              "412             0.000000  0.000000e+00                0.0   \n",
              "413             0.000000  0.000000e+00                0.0   \n",
              "414           218.454545  4.786244e+02             1066.0   \n",
              "415             9.000000  4.000000e+06                6.0   \n",
              "416           236.612245  1.079597e+03             3072.0   \n",
              "417            51.750000  5.526460e+03               51.0   \n",
              "418            13.750000  3.297443e+04               31.0   \n",
              "419             9.000000  5.555556e+04                6.0   \n",
              "420            41.833333  1.085625e+01              671.0   \n",
              "421            80.500000  1.186490e+03               89.0   \n",
              "422            68.800000  1.278108e+02              143.0   \n",
              "423            59.250000  1.264516e+06               57.0   \n",
              "424            48.000000  1.920768e+05               48.0   \n",
              "425            58.000000  1.288591e+06               56.0   \n",
              "426             3.000000  2.109422e+00                6.0   \n",
              "427             3.000000  2.377839e+00                6.0   \n",
              "428             3.000000  2.024263e+00                6.0   \n",
              "429            89.000000  1.039110e+04              133.0   \n",
              "\n",
              "     Fwd Packet Length Mean  Fwd IAT Min  Total Length of Fwd Packets  \\\n",
              "410              138.428571        323.0                        969.0   \n",
              "411               43.000000          3.0                        172.0   \n",
              "412                0.000000          0.0                          0.0   \n",
              "413                0.000000          0.0                          0.0   \n",
              "414              139.000000         18.0                        973.0   \n",
              "415                6.000000          3.0                         12.0   \n",
              "416              298.740741          1.0                       8066.0   \n",
              "417               35.000000          3.0                         70.0   \n",
              "418               14.333333          2.0                         43.0   \n",
              "419                6.000000        216.0                         12.0   \n",
              "420               47.187500        167.0                        755.0   \n",
              "421               56.500000     196846.0                        113.0   \n",
              "422               37.333333          1.0                        224.0   \n",
              "423               41.000000          4.0                         82.0   \n",
              "424               32.000000          1.0                         64.0   \n",
              "425               40.000000          3.0                         80.0   \n",
              "426                4.000000      36479.0                         12.0   \n",
              "427                4.000000      25131.0                         12.0   \n",
              "428                4.000000      23285.0                         12.0   \n",
              "429               30.000000          4.0                         60.0   \n",
              "\n",
              "     Fwd Packet Length Max  Flow IAT Mean   Fwd IAT Std  Fwd Header Length  \\\n",
              "410                  561.0   4.791930e+05  2.003103e+06              232.0   \n",
              "411                   43.0   1.223340e+04  3.236135e+04               80.0   \n",
              "412                    0.0   2.300000e+01  0.000000e+00               32.0   \n",
              "413                    0.0   2.200000e+01  0.000000e+00               32.0   \n",
              "414                  565.0   5.020638e+05  2.021330e+06              232.0   \n",
              "415                    6.0   3.000000e+00  0.000000e+00               40.0   \n",
              "416                 3072.0   2.237332e+05  2.105550e+06              564.0   \n",
              "417                   35.0   1.037433e+04  0.000000e+00               40.0   \n",
              "418                   31.0   4.953333e+02  1.013284e+03               60.0   \n",
              "419                    6.0   2.160000e+02  0.000000e+00               40.0   \n",
              "420                  671.0   3.986263e+06  4.165106e+06              332.0   \n",
              "421                   61.0   7.585400e+04  0.000000e+00               40.0   \n",
              "422                   38.0   5.650713e+05  2.216440e+06              144.0   \n",
              "423                   41.0   5.166667e+01  0.000000e+00               40.0   \n",
              "424                   32.0   2.776667e+02  0.000000e+00               40.0   \n",
              "425                   40.0   4.966667e+01  0.000000e+00               40.0   \n",
              "426                    6.0   1.896254e+06  3.970974e+06               72.0   \n",
              "427                    6.0   1.682200e+06  3.532944e+06               72.0   \n",
              "428                    6.0   1.976028e+06  4.158858e+06               72.0   \n",
              "429                   30.0   1.045767e+04  0.000000e+00               40.0   \n",
              "\n",
              "     Label  Predict  \n",
              "410      1        0  \n",
              "411      0        0  \n",
              "412      0        0  \n",
              "413      0        0  \n",
              "414      1        0  \n",
              "415      0        0  \n",
              "416      0        0  \n",
              "417      0        0  \n",
              "418      0        0  \n",
              "419      0        0  \n",
              "420      0        0  \n",
              "421      0        0  \n",
              "422      0        0  \n",
              "423      0        0  \n",
              "424      0        0  \n",
              "425      0        0  \n",
              "426      0        0  \n",
              "427      0        0  \n",
              "428      0        0  \n",
              "429      0        0  "
            ],
            "text/html": [
              "\n",
              "  <div id=\"df-6e30150f-d871-4646-abd6-8f173a335f8a\">\n",
              "    <div class=\"colab-df-container\">\n",
              "      <div>\n",
              "<style scoped>\n",
              "    .dataframe tbody tr th:only-of-type {\n",
              "        vertical-align: middle;\n",
              "    }\n",
              "\n",
              "    .dataframe tbody tr th {\n",
              "        vertical-align: top;\n",
              "    }\n",
              "\n",
              "    .dataframe thead th {\n",
              "        text-align: right;\n",
              "    }\n",
              "</style>\n",
              "<table border=\"1\" class=\"dataframe\">\n",
              "  <thead>\n",
              "    <tr style=\"text-align: right;\">\n",
              "      <th></th>\n",
              "      <th>Average Packet Size</th>\n",
              "      <th>Flow Bytes/s</th>\n",
              "      <th>Max Packet Length</th>\n",
              "      <th>Fwd Packet Length Mean</th>\n",
              "      <th>Fwd IAT Min</th>\n",
              "      <th>Total Length of Fwd Packets</th>\n",
              "      <th>Fwd Packet Length Max</th>\n",
              "      <th>Flow IAT Mean</th>\n",
              "      <th>Fwd IAT Std</th>\n",
              "      <th>Fwd Header Length</th>\n",
              "      <th>Label</th>\n",
              "      <th>Predict</th>\n",
              "    </tr>\n",
              "  </thead>\n",
              "  <tbody>\n",
              "    <tr>\n",
              "      <th>410</th>\n",
              "      <td>199.916667</td>\n",
              "      <td>4.551212e+02</td>\n",
              "      <td>1066.0</td>\n",
              "      <td>138.428571</td>\n",
              "      <td>323.0</td>\n",
              "      <td>969.0</td>\n",
              "      <td>561.0</td>\n",
              "      <td>4.791930e+05</td>\n",
              "      <td>2.003103e+06</td>\n",
              "      <td>232.0</td>\n",
              "      <td>1</td>\n",
              "      <td>0</td>\n",
              "    </tr>\n",
              "    <tr>\n",
              "      <th>411</th>\n",
              "      <td>70.833333</td>\n",
              "      <td>6.245198e+03</td>\n",
              "      <td>105.0</td>\n",
              "      <td>43.000000</td>\n",
              "      <td>3.0</td>\n",
              "      <td>172.0</td>\n",
              "      <td>43.0</td>\n",
              "      <td>1.223340e+04</td>\n",
              "      <td>3.236135e+04</td>\n",
              "      <td>80.0</td>\n",
              "      <td>0</td>\n",
              "      <td>0</td>\n",
              "    </tr>\n",
              "    <tr>\n",
              "      <th>412</th>\n",
              "      <td>0.000000</td>\n",
              "      <td>0.000000e+00</td>\n",
              "      <td>0.0</td>\n",
              "      <td>0.000000</td>\n",
              "      <td>0.0</td>\n",
              "      <td>0.0</td>\n",
              "      <td>0.0</td>\n",
              "      <td>2.300000e+01</td>\n",
              "      <td>0.000000e+00</td>\n",
              "      <td>32.0</td>\n",
              "      <td>0</td>\n",
              "      <td>0</td>\n",
              "    </tr>\n",
              "    <tr>\n",
              "      <th>413</th>\n",
              "      <td>0.000000</td>\n",
              "      <td>0.000000e+00</td>\n",
              "      <td>0.0</td>\n",
              "      <td>0.000000</td>\n",
              "      <td>0.0</td>\n",
              "      <td>0.0</td>\n",
              "      <td>0.0</td>\n",
              "      <td>2.200000e+01</td>\n",
              "      <td>0.000000e+00</td>\n",
              "      <td>32.0</td>\n",
              "      <td>0</td>\n",
              "      <td>0</td>\n",
              "    </tr>\n",
              "    <tr>\n",
              "      <th>414</th>\n",
              "      <td>218.454545</td>\n",
              "      <td>4.786244e+02</td>\n",
              "      <td>1066.0</td>\n",
              "      <td>139.000000</td>\n",
              "      <td>18.0</td>\n",
              "      <td>973.0</td>\n",
              "      <td>565.0</td>\n",
              "      <td>5.020638e+05</td>\n",
              "      <td>2.021330e+06</td>\n",
              "      <td>232.0</td>\n",
              "      <td>1</td>\n",
              "      <td>0</td>\n",
              "    </tr>\n",
              "    <tr>\n",
              "      <th>415</th>\n",
              "      <td>9.000000</td>\n",
              "      <td>4.000000e+06</td>\n",
              "      <td>6.0</td>\n",
              "      <td>6.000000</td>\n",
              "      <td>3.0</td>\n",
              "      <td>12.0</td>\n",
              "      <td>6.0</td>\n",
              "      <td>3.000000e+00</td>\n",
              "      <td>0.000000e+00</td>\n",
              "      <td>40.0</td>\n",
              "      <td>0</td>\n",
              "      <td>0</td>\n",
              "    </tr>\n",
              "    <tr>\n",
              "      <th>416</th>\n",
              "      <td>236.612245</td>\n",
              "      <td>1.079597e+03</td>\n",
              "      <td>3072.0</td>\n",
              "      <td>298.740741</td>\n",
              "      <td>1.0</td>\n",
              "      <td>8066.0</td>\n",
              "      <td>3072.0</td>\n",
              "      <td>2.237332e+05</td>\n",
              "      <td>2.105550e+06</td>\n",
              "      <td>564.0</td>\n",
              "      <td>0</td>\n",
              "      <td>0</td>\n",
              "    </tr>\n",
              "    <tr>\n",
              "      <th>417</th>\n",
              "      <td>51.750000</td>\n",
              "      <td>5.526460e+03</td>\n",
              "      <td>51.0</td>\n",
              "      <td>35.000000</td>\n",
              "      <td>3.0</td>\n",
              "      <td>70.0</td>\n",
              "      <td>35.0</td>\n",
              "      <td>1.037433e+04</td>\n",
              "      <td>0.000000e+00</td>\n",
              "      <td>40.0</td>\n",
              "      <td>0</td>\n",
              "      <td>0</td>\n",
              "    </tr>\n",
              "    <tr>\n",
              "      <th>418</th>\n",
              "      <td>13.750000</td>\n",
              "      <td>3.297443e+04</td>\n",
              "      <td>31.0</td>\n",
              "      <td>14.333333</td>\n",
              "      <td>2.0</td>\n",
              "      <td>43.0</td>\n",
              "      <td>31.0</td>\n",
              "      <td>4.953333e+02</td>\n",
              "      <td>1.013284e+03</td>\n",
              "      <td>60.0</td>\n",
              "      <td>0</td>\n",
              "      <td>0</td>\n",
              "    </tr>\n",
              "    <tr>\n",
              "      <th>419</th>\n",
              "      <td>9.000000</td>\n",
              "      <td>5.555556e+04</td>\n",
              "      <td>6.0</td>\n",
              "      <td>6.000000</td>\n",
              "      <td>216.0</td>\n",
              "      <td>12.0</td>\n",
              "      <td>6.0</td>\n",
              "      <td>2.160000e+02</td>\n",
              "      <td>0.000000e+00</td>\n",
              "      <td>40.0</td>\n",
              "      <td>0</td>\n",
              "      <td>0</td>\n",
              "    </tr>\n",
              "    <tr>\n",
              "      <th>420</th>\n",
              "      <td>41.833333</td>\n",
              "      <td>1.085625e+01</td>\n",
              "      <td>671.0</td>\n",
              "      <td>47.187500</td>\n",
              "      <td>167.0</td>\n",
              "      <td>755.0</td>\n",
              "      <td>671.0</td>\n",
              "      <td>3.986263e+06</td>\n",
              "      <td>4.165106e+06</td>\n",
              "      <td>332.0</td>\n",
              "      <td>0</td>\n",
              "      <td>0</td>\n",
              "    </tr>\n",
              "    <tr>\n",
              "      <th>421</th>\n",
              "      <td>80.500000</td>\n",
              "      <td>1.186490e+03</td>\n",
              "      <td>89.0</td>\n",
              "      <td>56.500000</td>\n",
              "      <td>196846.0</td>\n",
              "      <td>113.0</td>\n",
              "      <td>61.0</td>\n",
              "      <td>7.585400e+04</td>\n",
              "      <td>0.000000e+00</td>\n",
              "      <td>40.0</td>\n",
              "      <td>0</td>\n",
              "      <td>0</td>\n",
              "    </tr>\n",
              "    <tr>\n",
              "      <th>422</th>\n",
              "      <td>68.800000</td>\n",
              "      <td>1.278108e+02</td>\n",
              "      <td>143.0</td>\n",
              "      <td>37.333333</td>\n",
              "      <td>1.0</td>\n",
              "      <td>224.0</td>\n",
              "      <td>38.0</td>\n",
              "      <td>5.650713e+05</td>\n",
              "      <td>2.216440e+06</td>\n",
              "      <td>144.0</td>\n",
              "      <td>0</td>\n",
              "      <td>0</td>\n",
              "    </tr>\n",
              "    <tr>\n",
              "      <th>423</th>\n",
              "      <td>59.250000</td>\n",
              "      <td>1.264516e+06</td>\n",
              "      <td>57.0</td>\n",
              "      <td>41.000000</td>\n",
              "      <td>4.0</td>\n",
              "      <td>82.0</td>\n",
              "      <td>41.0</td>\n",
              "      <td>5.166667e+01</td>\n",
              "      <td>0.000000e+00</td>\n",
              "      <td>40.0</td>\n",
              "      <td>0</td>\n",
              "      <td>0</td>\n",
              "    </tr>\n",
              "    <tr>\n",
              "      <th>424</th>\n",
              "      <td>48.000000</td>\n",
              "      <td>1.920768e+05</td>\n",
              "      <td>48.0</td>\n",
              "      <td>32.000000</td>\n",
              "      <td>1.0</td>\n",
              "      <td>64.0</td>\n",
              "      <td>32.0</td>\n",
              "      <td>2.776667e+02</td>\n",
              "      <td>0.000000e+00</td>\n",
              "      <td>40.0</td>\n",
              "      <td>0</td>\n",
              "      <td>0</td>\n",
              "    </tr>\n",
              "    <tr>\n",
              "      <th>425</th>\n",
              "      <td>58.000000</td>\n",
              "      <td>1.288591e+06</td>\n",
              "      <td>56.0</td>\n",
              "      <td>40.000000</td>\n",
              "      <td>3.0</td>\n",
              "      <td>80.0</td>\n",
              "      <td>40.0</td>\n",
              "      <td>4.966667e+01</td>\n",
              "      <td>0.000000e+00</td>\n",
              "      <td>40.0</td>\n",
              "      <td>0</td>\n",
              "      <td>0</td>\n",
              "    </tr>\n",
              "    <tr>\n",
              "      <th>426</th>\n",
              "      <td>3.000000</td>\n",
              "      <td>2.109422e+00</td>\n",
              "      <td>6.0</td>\n",
              "      <td>4.000000</td>\n",
              "      <td>36479.0</td>\n",
              "      <td>12.0</td>\n",
              "      <td>6.0</td>\n",
              "      <td>1.896254e+06</td>\n",
              "      <td>3.970974e+06</td>\n",
              "      <td>72.0</td>\n",
              "      <td>0</td>\n",
              "      <td>0</td>\n",
              "    </tr>\n",
              "    <tr>\n",
              "      <th>427</th>\n",
              "      <td>3.000000</td>\n",
              "      <td>2.377839e+00</td>\n",
              "      <td>6.0</td>\n",
              "      <td>4.000000</td>\n",
              "      <td>25131.0</td>\n",
              "      <td>12.0</td>\n",
              "      <td>6.0</td>\n",
              "      <td>1.682200e+06</td>\n",
              "      <td>3.532944e+06</td>\n",
              "      <td>72.0</td>\n",
              "      <td>0</td>\n",
              "      <td>0</td>\n",
              "    </tr>\n",
              "    <tr>\n",
              "      <th>428</th>\n",
              "      <td>3.000000</td>\n",
              "      <td>2.024263e+00</td>\n",
              "      <td>6.0</td>\n",
              "      <td>4.000000</td>\n",
              "      <td>23285.0</td>\n",
              "      <td>12.0</td>\n",
              "      <td>6.0</td>\n",
              "      <td>1.976028e+06</td>\n",
              "      <td>4.158858e+06</td>\n",
              "      <td>72.0</td>\n",
              "      <td>0</td>\n",
              "      <td>0</td>\n",
              "    </tr>\n",
              "    <tr>\n",
              "      <th>429</th>\n",
              "      <td>89.000000</td>\n",
              "      <td>1.039110e+04</td>\n",
              "      <td>133.0</td>\n",
              "      <td>30.000000</td>\n",
              "      <td>4.0</td>\n",
              "      <td>60.0</td>\n",
              "      <td>30.0</td>\n",
              "      <td>1.045767e+04</td>\n",
              "      <td>0.000000e+00</td>\n",
              "      <td>40.0</td>\n",
              "      <td>0</td>\n",
              "      <td>0</td>\n",
              "    </tr>\n",
              "  </tbody>\n",
              "</table>\n",
              "</div>\n",
              "      <button class=\"colab-df-convert\" onclick=\"convertToInteractive('df-6e30150f-d871-4646-abd6-8f173a335f8a')\"\n",
              "              title=\"Convert this dataframe to an interactive table.\"\n",
              "              style=\"display:none;\">\n",
              "        \n",
              "  <svg xmlns=\"http://www.w3.org/2000/svg\" height=\"24px\"viewBox=\"0 0 24 24\"\n",
              "       width=\"24px\">\n",
              "    <path d=\"M0 0h24v24H0V0z\" fill=\"none\"/>\n",
              "    <path d=\"M18.56 5.44l.94 2.06.94-2.06 2.06-.94-2.06-.94-.94-2.06-.94 2.06-2.06.94zm-11 1L8.5 8.5l.94-2.06 2.06-.94-2.06-.94L8.5 2.5l-.94 2.06-2.06.94zm10 10l.94 2.06.94-2.06 2.06-.94-2.06-.94-.94-2.06-.94 2.06-2.06.94z\"/><path d=\"M17.41 7.96l-1.37-1.37c-.4-.4-.92-.59-1.43-.59-.52 0-1.04.2-1.43.59L10.3 9.45l-7.72 7.72c-.78.78-.78 2.05 0 2.83L4 21.41c.39.39.9.59 1.41.59.51 0 1.02-.2 1.41-.59l7.78-7.78 2.81-2.81c.8-.78.8-2.07 0-2.86zM5.41 20L4 18.59l7.72-7.72 1.47 1.35L5.41 20z\"/>\n",
              "  </svg>\n",
              "      </button>\n",
              "      \n",
              "  <style>\n",
              "    .colab-df-container {\n",
              "      display:flex;\n",
              "      flex-wrap:wrap;\n",
              "      gap: 12px;\n",
              "    }\n",
              "\n",
              "    .colab-df-convert {\n",
              "      background-color: #E8F0FE;\n",
              "      border: none;\n",
              "      border-radius: 50%;\n",
              "      cursor: pointer;\n",
              "      display: none;\n",
              "      fill: #1967D2;\n",
              "      height: 32px;\n",
              "      padding: 0 0 0 0;\n",
              "      width: 32px;\n",
              "    }\n",
              "\n",
              "    .colab-df-convert:hover {\n",
              "      background-color: #E2EBFA;\n",
              "      box-shadow: 0px 1px 2px rgba(60, 64, 67, 0.3), 0px 1px 3px 1px rgba(60, 64, 67, 0.15);\n",
              "      fill: #174EA6;\n",
              "    }\n",
              "\n",
              "    [theme=dark] .colab-df-convert {\n",
              "      background-color: #3B4455;\n",
              "      fill: #D2E3FC;\n",
              "    }\n",
              "\n",
              "    [theme=dark] .colab-df-convert:hover {\n",
              "      background-color: #434B5C;\n",
              "      box-shadow: 0px 1px 3px 1px rgba(0, 0, 0, 0.15);\n",
              "      filter: drop-shadow(0px 1px 2px rgba(0, 0, 0, 0.3));\n",
              "      fill: #FFFFFF;\n",
              "    }\n",
              "  </style>\n",
              "\n",
              "      <script>\n",
              "        const buttonEl =\n",
              "          document.querySelector('#df-6e30150f-d871-4646-abd6-8f173a335f8a button.colab-df-convert');\n",
              "        buttonEl.style.display =\n",
              "          google.colab.kernel.accessAllowed ? 'block' : 'none';\n",
              "\n",
              "        async function convertToInteractive(key) {\n",
              "          const element = document.querySelector('#df-6e30150f-d871-4646-abd6-8f173a335f8a');\n",
              "          const dataTable =\n",
              "            await google.colab.kernel.invokeFunction('convertToInteractive',\n",
              "                                                     [key], {});\n",
              "          if (!dataTable) return;\n",
              "\n",
              "          const docLinkHtml = 'Like what you see? Visit the ' +\n",
              "            '<a target=\"_blank\" href=https://colab.research.google.com/notebooks/data_table.ipynb>data table notebook</a>'\n",
              "            + ' to learn more about interactive tables.';\n",
              "          element.innerHTML = '';\n",
              "          dataTable['output_type'] = 'display_data';\n",
              "          await google.colab.output.renderOutput(dataTable, element);\n",
              "          const docLink = document.createElement('div');\n",
              "          docLink.innerHTML = docLinkHtml;\n",
              "          element.appendChild(docLink);\n",
              "        }\n",
              "      </script>\n",
              "    </div>\n",
              "  </div>\n",
              "  "
            ]
          },
          "metadata": {},
          "execution_count": 78
        }
      ],
      "source": [
        "result[410:430]"
      ]
    }
  ],
  "metadata": {
    "colab": {
      "collapsed_sections": [
        "SCEkDfpOFPQX",
        "3P69z9kfupES",
        "eLikdx9Legm0",
        "eh-k8KdMhJ_Q",
        "Iiskwr3VmoL5",
        "5PElFLh5oYzU",
        "pnHSPBrDodIs"
      ],
      "name": "Web Attack Detection (ML IDS)",
      "provenance": []
    },
    "kernelspec": {
      "display_name": "Python 3",
      "language": "python",
      "name": "python3"
    },
    "language_info": {
      "codemirror_mode": {
        "name": "ipython",
        "version": 3
      },
      "file_extension": ".py",
      "mimetype": "text/x-python",
      "name": "python",
      "nbconvert_exporter": "python",
      "pygments_lexer": "ipython3",
      "version": "3.7.4"
    }
  },
  "nbformat": 4,
  "nbformat_minor": 0
}